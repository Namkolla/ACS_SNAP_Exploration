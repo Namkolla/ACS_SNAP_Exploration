{
 "cells": [
  {
   "cell_type": "code",
   "execution_count": 1,
   "metadata": {
    "collapsed": true
   },
   "outputs": [],
   "source": [
    "%matplotlib inline\n",
    "import pandas as pd\n",
    "import numpy as np\n",
    "import matplotlib.pyplot as plt\n",
    "from matplotlib.collections import PatchCollection\n",
    "from matplotlib.patches import Polygon, Rectangle\n",
    "from shapely.geometry import Polygon, MultiPolygon, shape, mapping\n",
    "import fiona\n",
    "# If below doesn't work, run in cmd: conda install -c conda-forge basemap \n",
    "from mpl_toolkits.basemap import Basemap\n",
    "from descartes import PolygonPatch\n",
    "import os\n",
    "import seaborn as sns"
   ]
  },
  {
   "cell_type": "markdown",
   "metadata": {},
   "source": [
    "### Relevant 2017 variables"
   ]
  },
  {
   "cell_type": "markdown",
   "metadata": {},
   "source": [
    "**Housing Record**\n",
    "\n",
    "Dep. Var \n",
    "- FS (Yearly food stamp/SNAP recipiency)\n",
    "\n",
    "Ind. Var\n",
    "- PUMA\n",
    "- WGTP (household weight) \n",
    "- ADJINC (adjustment factor for income)\n",
    "- HINCP (mean household income)\n",
    "- NP (Number of persons in this household)\n",
    "- HHT (Household/family type) (Note: Could determine proportion of partnered/unpartnered households with children by crosstabbing with transformed HUPAC)\n",
    "- FES (Family type and employment status)\n",
    "- HHL (primary language spoken)\n",
    "- HUPAC (presence and age of children) (Note: need variable transformation to a binary and drop NA's depending on whether the age is important) \n",
    "\n",
    "**Person Record**\n",
    "\n",
    "Ind. Var \n",
    "- PUMA\n",
    "- PWGTP (person's weight) \n",
    "- ADJINC (adjustment factor for income) \n",
    "- WAGP (wages/salary income the past 12 mo.) \n",
    "- AGE \n",
    "- ENG (ability to speak English) \n",
    "- MIL (military service) \n",
    "- SEX \n",
    "- HICOV (health insurance coverage) \n",
    "- NATIVITY \n",
    "- RAC1P (race)\n",
    "- ESP (employment status of parents)\n",
    "- JWTR (means of transportation to work)\n",
    "- OCCP (occupation) (Note: Top 5-10 industries of employment, for example food industry, construction, etc. VS. job within industry. It would be handy to have the proportion in the industries as well)"
   ]
  },
  {
   "cell_type": "markdown",
   "metadata": {},
   "source": [
    "### Merge Person to Household datasets"
   ]
  },
  {
   "cell_type": "markdown",
   "metadata": {},
   "source": [
    "Connecting HH and Person records (scroll to bottom \"Merging Person and Housing Unit Files\": \n",
    "https://www.census.gov/programs-surveys/acs/technical-documentation/pums/filestructure.html\n",
    "\n",
    "HH Record DD: \n",
    "RT = Record Type \n",
    "SERIALNO = Housing unit/GQ person serial number \n",
    "\n",
    "Person Record DD: \n",
    "RT = Record Type\n",
    "SERIALNO = Housing Unit/GC person serial number\n",
    "SPORDER = Person number (1-20)\n",
    "\n",
    "Downloaded person data from: \n",
    "https://www2.census.gov/programs-surveys/acs/data/pums/2016/1-Year/"
   ]
  },
  {
   "cell_type": "code",
   "execution_count": 5,
   "metadata": {
    "collapsed": false
   },
   "outputs": [],
   "source": [
    "# Load household-level data\n",
    "acs_17_hh = pd.read_csv('Data/psam_h53.csv')"
   ]
  },
  {
   "cell_type": "code",
   "execution_count": 6,
   "metadata": {
    "collapsed": false
   },
   "outputs": [
    {
     "data": {
      "text/plain": [
       "34091"
      ]
     },
     "execution_count": 6,
     "metadata": {},
     "output_type": "execute_result"
    }
   ],
   "source": [
    "len(acs_17_hh)"
   ]
  },
  {
   "cell_type": "code",
   "execution_count": 7,
   "metadata": {
    "collapsed": false
   },
   "outputs": [
    {
     "data": {
      "text/plain": [
       "3103263"
      ]
     },
     "execution_count": 7,
     "metadata": {},
     "output_type": "execute_result"
    }
   ],
   "source": [
    "# Number of housing units in Washington state\n",
    "acs_17_hh.WGTP.sum()"
   ]
  },
  {
   "cell_type": "code",
   "execution_count": 8,
   "metadata": {
    "collapsed": false
   },
   "outputs": [
    {
     "data": {
      "text/html": [
       "<div>\n",
       "<style>\n",
       "    .dataframe thead tr:only-child th {\n",
       "        text-align: right;\n",
       "    }\n",
       "\n",
       "    .dataframe thead th {\n",
       "        text-align: left;\n",
       "    }\n",
       "\n",
       "    .dataframe tbody tr th {\n",
       "        vertical-align: top;\n",
       "    }\n",
       "</style>\n",
       "<table border=\"1\" class=\"dataframe\">\n",
       "  <thead>\n",
       "    <tr style=\"text-align: right;\">\n",
       "      <th></th>\n",
       "      <th>RT</th>\n",
       "      <th>SERIALNO</th>\n",
       "      <th>DIVISION</th>\n",
       "      <th>PUMA</th>\n",
       "      <th>REGION</th>\n",
       "      <th>ST</th>\n",
       "      <th>ADJHSG</th>\n",
       "      <th>ADJINC</th>\n",
       "      <th>WGTP</th>\n",
       "      <th>NP</th>\n",
       "      <th>...</th>\n",
       "      <th>WGTP71</th>\n",
       "      <th>WGTP72</th>\n",
       "      <th>WGTP73</th>\n",
       "      <th>WGTP74</th>\n",
       "      <th>WGTP75</th>\n",
       "      <th>WGTP76</th>\n",
       "      <th>WGTP77</th>\n",
       "      <th>WGTP78</th>\n",
       "      <th>WGTP79</th>\n",
       "      <th>WGTP80</th>\n",
       "    </tr>\n",
       "  </thead>\n",
       "  <tbody>\n",
       "    <tr>\n",
       "      <th>0</th>\n",
       "      <td>H</td>\n",
       "      <td>2017000000027</td>\n",
       "      <td>9</td>\n",
       "      <td>11603</td>\n",
       "      <td>4</td>\n",
       "      <td>53</td>\n",
       "      <td>1000000</td>\n",
       "      <td>1011189</td>\n",
       "      <td>126</td>\n",
       "      <td>1</td>\n",
       "      <td>...</td>\n",
       "      <td>36</td>\n",
       "      <td>104</td>\n",
       "      <td>125</td>\n",
       "      <td>121</td>\n",
       "      <td>114</td>\n",
       "      <td>216</td>\n",
       "      <td>39</td>\n",
       "      <td>121</td>\n",
       "      <td>101</td>\n",
       "      <td>244</td>\n",
       "    </tr>\n",
       "    <tr>\n",
       "      <th>1</th>\n",
       "      <td>H</td>\n",
       "      <td>2017000000082</td>\n",
       "      <td>9</td>\n",
       "      <td>11200</td>\n",
       "      <td>4</td>\n",
       "      <td>53</td>\n",
       "      <td>1000000</td>\n",
       "      <td>1011189</td>\n",
       "      <td>127</td>\n",
       "      <td>4</td>\n",
       "      <td>...</td>\n",
       "      <td>143</td>\n",
       "      <td>40</td>\n",
       "      <td>126</td>\n",
       "      <td>33</td>\n",
       "      <td>183</td>\n",
       "      <td>129</td>\n",
       "      <td>38</td>\n",
       "      <td>39</td>\n",
       "      <td>113</td>\n",
       "      <td>117</td>\n",
       "    </tr>\n",
       "    <tr>\n",
       "      <th>2</th>\n",
       "      <td>H</td>\n",
       "      <td>2017000000099</td>\n",
       "      <td>9</td>\n",
       "      <td>11702</td>\n",
       "      <td>4</td>\n",
       "      <td>53</td>\n",
       "      <td>1000000</td>\n",
       "      <td>1011189</td>\n",
       "      <td>47</td>\n",
       "      <td>2</td>\n",
       "      <td>...</td>\n",
       "      <td>12</td>\n",
       "      <td>54</td>\n",
       "      <td>43</td>\n",
       "      <td>13</td>\n",
       "      <td>67</td>\n",
       "      <td>47</td>\n",
       "      <td>74</td>\n",
       "      <td>59</td>\n",
       "      <td>49</td>\n",
       "      <td>55</td>\n",
       "    </tr>\n",
       "    <tr>\n",
       "      <th>3</th>\n",
       "      <td>H</td>\n",
       "      <td>2017000000103</td>\n",
       "      <td>9</td>\n",
       "      <td>10100</td>\n",
       "      <td>4</td>\n",
       "      <td>53</td>\n",
       "      <td>1000000</td>\n",
       "      <td>1011189</td>\n",
       "      <td>52</td>\n",
       "      <td>3</td>\n",
       "      <td>...</td>\n",
       "      <td>63</td>\n",
       "      <td>15</td>\n",
       "      <td>11</td>\n",
       "      <td>49</td>\n",
       "      <td>48</td>\n",
       "      <td>19</td>\n",
       "      <td>77</td>\n",
       "      <td>50</td>\n",
       "      <td>88</td>\n",
       "      <td>58</td>\n",
       "    </tr>\n",
       "    <tr>\n",
       "      <th>4</th>\n",
       "      <td>H</td>\n",
       "      <td>2017000000108</td>\n",
       "      <td>9</td>\n",
       "      <td>11603</td>\n",
       "      <td>4</td>\n",
       "      <td>53</td>\n",
       "      <td>1000000</td>\n",
       "      <td>1011189</td>\n",
       "      <td>111</td>\n",
       "      <td>2</td>\n",
       "      <td>...</td>\n",
       "      <td>194</td>\n",
       "      <td>32</td>\n",
       "      <td>108</td>\n",
       "      <td>168</td>\n",
       "      <td>36</td>\n",
       "      <td>29</td>\n",
       "      <td>101</td>\n",
       "      <td>119</td>\n",
       "      <td>176</td>\n",
       "      <td>108</td>\n",
       "    </tr>\n",
       "  </tbody>\n",
       "</table>\n",
       "<p>5 rows × 230 columns</p>\n",
       "</div>"
      ],
      "text/plain": [
       "  RT       SERIALNO  DIVISION   PUMA  REGION  ST   ADJHSG   ADJINC  WGTP  NP  \\\n",
       "0  H  2017000000027         9  11603       4  53  1000000  1011189   126   1   \n",
       "1  H  2017000000082         9  11200       4  53  1000000  1011189   127   4   \n",
       "2  H  2017000000099         9  11702       4  53  1000000  1011189    47   2   \n",
       "3  H  2017000000103         9  10100       4  53  1000000  1011189    52   3   \n",
       "4  H  2017000000108         9  11603       4  53  1000000  1011189   111   2   \n",
       "\n",
       "    ...    WGTP71  WGTP72  WGTP73  WGTP74  WGTP75  WGTP76  WGTP77  WGTP78  \\\n",
       "0   ...        36     104     125     121     114     216      39     121   \n",
       "1   ...       143      40     126      33     183     129      38      39   \n",
       "2   ...        12      54      43      13      67      47      74      59   \n",
       "3   ...        63      15      11      49      48      19      77      50   \n",
       "4   ...       194      32     108     168      36      29     101     119   \n",
       "\n",
       "   WGTP79  WGTP80  \n",
       "0     101     244  \n",
       "1     113     117  \n",
       "2      49      55  \n",
       "3      88      58  \n",
       "4     176     108  \n",
       "\n",
       "[5 rows x 230 columns]"
      ]
     },
     "execution_count": 8,
     "metadata": {},
     "output_type": "execute_result"
    }
   ],
   "source": [
    "acs_17_hh.head()"
   ]
  },
  {
   "cell_type": "code",
   "execution_count": 9,
   "metadata": {
    "collapsed": false
   },
   "outputs": [],
   "source": [
    "# Load person-level data\n",
    "acs_17_p = pd.read_csv('Data/psam_p53.csv')"
   ]
  },
  {
   "cell_type": "code",
   "execution_count": 10,
   "metadata": {
    "collapsed": false
   },
   "outputs": [
    {
     "data": {
      "text/html": [
       "<div>\n",
       "<style>\n",
       "    .dataframe thead tr:only-child th {\n",
       "        text-align: right;\n",
       "    }\n",
       "\n",
       "    .dataframe thead th {\n",
       "        text-align: left;\n",
       "    }\n",
       "\n",
       "    .dataframe tbody tr th {\n",
       "        vertical-align: top;\n",
       "    }\n",
       "</style>\n",
       "<table border=\"1\" class=\"dataframe\">\n",
       "  <thead>\n",
       "    <tr style=\"text-align: right;\">\n",
       "      <th></th>\n",
       "      <th>RT</th>\n",
       "      <th>SERIALNO</th>\n",
       "      <th>DIVISION</th>\n",
       "      <th>SPORDER</th>\n",
       "      <th>PUMA</th>\n",
       "      <th>REGION</th>\n",
       "      <th>ST</th>\n",
       "      <th>ADJINC</th>\n",
       "      <th>PWGTP</th>\n",
       "      <th>AGEP</th>\n",
       "      <th>...</th>\n",
       "      <th>PWGTP71</th>\n",
       "      <th>PWGTP72</th>\n",
       "      <th>PWGTP73</th>\n",
       "      <th>PWGTP74</th>\n",
       "      <th>PWGTP75</th>\n",
       "      <th>PWGTP76</th>\n",
       "      <th>PWGTP77</th>\n",
       "      <th>PWGTP78</th>\n",
       "      <th>PWGTP79</th>\n",
       "      <th>PWGTP80</th>\n",
       "    </tr>\n",
       "  </thead>\n",
       "  <tbody>\n",
       "    <tr>\n",
       "      <th>0</th>\n",
       "      <td>P</td>\n",
       "      <td>2017000000027</td>\n",
       "      <td>9</td>\n",
       "      <td>1</td>\n",
       "      <td>11603</td>\n",
       "      <td>4</td>\n",
       "      <td>53</td>\n",
       "      <td>1011189</td>\n",
       "      <td>126</td>\n",
       "      <td>47</td>\n",
       "      <td>...</td>\n",
       "      <td>36</td>\n",
       "      <td>104</td>\n",
       "      <td>125</td>\n",
       "      <td>120</td>\n",
       "      <td>114</td>\n",
       "      <td>216</td>\n",
       "      <td>39</td>\n",
       "      <td>122</td>\n",
       "      <td>101</td>\n",
       "      <td>244</td>\n",
       "    </tr>\n",
       "    <tr>\n",
       "      <th>1</th>\n",
       "      <td>P</td>\n",
       "      <td>2017000000082</td>\n",
       "      <td>9</td>\n",
       "      <td>1</td>\n",
       "      <td>11200</td>\n",
       "      <td>4</td>\n",
       "      <td>53</td>\n",
       "      <td>1011189</td>\n",
       "      <td>126</td>\n",
       "      <td>35</td>\n",
       "      <td>...</td>\n",
       "      <td>144</td>\n",
       "      <td>40</td>\n",
       "      <td>126</td>\n",
       "      <td>34</td>\n",
       "      <td>182</td>\n",
       "      <td>129</td>\n",
       "      <td>38</td>\n",
       "      <td>39</td>\n",
       "      <td>113</td>\n",
       "      <td>117</td>\n",
       "    </tr>\n",
       "    <tr>\n",
       "      <th>2</th>\n",
       "      <td>P</td>\n",
       "      <td>2017000000082</td>\n",
       "      <td>9</td>\n",
       "      <td>2</td>\n",
       "      <td>11200</td>\n",
       "      <td>4</td>\n",
       "      <td>53</td>\n",
       "      <td>1011189</td>\n",
       "      <td>99</td>\n",
       "      <td>38</td>\n",
       "      <td>...</td>\n",
       "      <td>94</td>\n",
       "      <td>31</td>\n",
       "      <td>90</td>\n",
       "      <td>31</td>\n",
       "      <td>135</td>\n",
       "      <td>91</td>\n",
       "      <td>29</td>\n",
       "      <td>29</td>\n",
       "      <td>92</td>\n",
       "      <td>100</td>\n",
       "    </tr>\n",
       "    <tr>\n",
       "      <th>3</th>\n",
       "      <td>P</td>\n",
       "      <td>2017000000082</td>\n",
       "      <td>9</td>\n",
       "      <td>3</td>\n",
       "      <td>11200</td>\n",
       "      <td>4</td>\n",
       "      <td>53</td>\n",
       "      <td>1011189</td>\n",
       "      <td>120</td>\n",
       "      <td>14</td>\n",
       "      <td>...</td>\n",
       "      <td>124</td>\n",
       "      <td>33</td>\n",
       "      <td>105</td>\n",
       "      <td>39</td>\n",
       "      <td>190</td>\n",
       "      <td>116</td>\n",
       "      <td>38</td>\n",
       "      <td>31</td>\n",
       "      <td>113</td>\n",
       "      <td>105</td>\n",
       "    </tr>\n",
       "    <tr>\n",
       "      <th>4</th>\n",
       "      <td>P</td>\n",
       "      <td>2017000000082</td>\n",
       "      <td>9</td>\n",
       "      <td>4</td>\n",
       "      <td>11200</td>\n",
       "      <td>4</td>\n",
       "      <td>53</td>\n",
       "      <td>1011189</td>\n",
       "      <td>144</td>\n",
       "      <td>6</td>\n",
       "      <td>...</td>\n",
       "      <td>165</td>\n",
       "      <td>49</td>\n",
       "      <td>138</td>\n",
       "      <td>36</td>\n",
       "      <td>217</td>\n",
       "      <td>127</td>\n",
       "      <td>35</td>\n",
       "      <td>39</td>\n",
       "      <td>144</td>\n",
       "      <td>120</td>\n",
       "    </tr>\n",
       "  </tbody>\n",
       "</table>\n",
       "<p>5 rows × 286 columns</p>\n",
       "</div>"
      ],
      "text/plain": [
       "  RT       SERIALNO  DIVISION  SPORDER   PUMA  REGION  ST   ADJINC  PWGTP  \\\n",
       "0  P  2017000000027         9        1  11603       4  53  1011189    126   \n",
       "1  P  2017000000082         9        1  11200       4  53  1011189    126   \n",
       "2  P  2017000000082         9        2  11200       4  53  1011189     99   \n",
       "3  P  2017000000082         9        3  11200       4  53  1011189    120   \n",
       "4  P  2017000000082         9        4  11200       4  53  1011189    144   \n",
       "\n",
       "   AGEP   ...     PWGTP71  PWGTP72  PWGTP73  PWGTP74  PWGTP75  PWGTP76  \\\n",
       "0    47   ...          36      104      125      120      114      216   \n",
       "1    35   ...         144       40      126       34      182      129   \n",
       "2    38   ...          94       31       90       31      135       91   \n",
       "3    14   ...         124       33      105       39      190      116   \n",
       "4     6   ...         165       49      138       36      217      127   \n",
       "\n",
       "   PWGTP77  PWGTP78  PWGTP79  PWGTP80  \n",
       "0       39      122      101      244  \n",
       "1       38       39      113      117  \n",
       "2       29       29       92      100  \n",
       "3       38       31      113      105  \n",
       "4       35       39      144      120  \n",
       "\n",
       "[5 rows x 286 columns]"
      ]
     },
     "execution_count": 10,
     "metadata": {},
     "output_type": "execute_result"
    }
   ],
   "source": [
    "acs_17_p.head()"
   ]
  },
  {
   "cell_type": "code",
   "execution_count": 11,
   "metadata": {
    "collapsed": true
   },
   "outputs": [],
   "source": [
    "acs_17_p = acs_17_p[acs_17_p.SPORDER==1]"
   ]
  },
  {
   "cell_type": "markdown",
   "metadata": {},
   "source": [
    "Note everything we conclude at the person level is about household HEADS at this point on. "
   ]
  },
  {
   "cell_type": "code",
   "execution_count": 12,
   "metadata": {
    "collapsed": true
   },
   "outputs": [],
   "source": [
    "acs_17_hh.sort_values(by=\"SERIALNO\",inplace=True)"
   ]
  },
  {
   "cell_type": "code",
   "execution_count": 13,
   "metadata": {
    "collapsed": true
   },
   "outputs": [],
   "source": [
    "acs_17_p.sort_values(by=\"SERIALNO\",inplace=True)"
   ]
  },
  {
   "cell_type": "code",
   "execution_count": 14,
   "metadata": {
    "collapsed": true
   },
   "outputs": [],
   "source": [
    "pumas_hh_merge = acs_17_hh.merge(acs_17_p,how=\"left\",on=[\"SERIALNO\", \"PUMA\", \"ST\"])"
   ]
  },
  {
   "cell_type": "code",
   "execution_count": 15,
   "metadata": {
    "collapsed": false
   },
   "outputs": [
    {
     "data": {
      "text/html": [
       "<div>\n",
       "<style>\n",
       "    .dataframe thead tr:only-child th {\n",
       "        text-align: right;\n",
       "    }\n",
       "\n",
       "    .dataframe thead th {\n",
       "        text-align: left;\n",
       "    }\n",
       "\n",
       "    .dataframe tbody tr th {\n",
       "        vertical-align: top;\n",
       "    }\n",
       "</style>\n",
       "<table border=\"1\" class=\"dataframe\">\n",
       "  <thead>\n",
       "    <tr style=\"text-align: right;\">\n",
       "      <th></th>\n",
       "      <th>RT_x</th>\n",
       "      <th>SERIALNO</th>\n",
       "      <th>DIVISION_x</th>\n",
       "      <th>PUMA</th>\n",
       "      <th>REGION_x</th>\n",
       "      <th>ST</th>\n",
       "      <th>ADJHSG</th>\n",
       "      <th>ADJINC_x</th>\n",
       "      <th>WGTP</th>\n",
       "      <th>NP</th>\n",
       "      <th>...</th>\n",
       "      <th>PWGTP71</th>\n",
       "      <th>PWGTP72</th>\n",
       "      <th>PWGTP73</th>\n",
       "      <th>PWGTP74</th>\n",
       "      <th>PWGTP75</th>\n",
       "      <th>PWGTP76</th>\n",
       "      <th>PWGTP77</th>\n",
       "      <th>PWGTP78</th>\n",
       "      <th>PWGTP79</th>\n",
       "      <th>PWGTP80</th>\n",
       "    </tr>\n",
       "  </thead>\n",
       "  <tbody>\n",
       "    <tr>\n",
       "      <th>0</th>\n",
       "      <td>H</td>\n",
       "      <td>2017000000027</td>\n",
       "      <td>9</td>\n",
       "      <td>11603</td>\n",
       "      <td>4</td>\n",
       "      <td>53</td>\n",
       "      <td>1000000</td>\n",
       "      <td>1011189</td>\n",
       "      <td>126</td>\n",
       "      <td>1</td>\n",
       "      <td>...</td>\n",
       "      <td>36.0</td>\n",
       "      <td>104.0</td>\n",
       "      <td>125.0</td>\n",
       "      <td>120.0</td>\n",
       "      <td>114.0</td>\n",
       "      <td>216.0</td>\n",
       "      <td>39.0</td>\n",
       "      <td>122.0</td>\n",
       "      <td>101.0</td>\n",
       "      <td>244.0</td>\n",
       "    </tr>\n",
       "    <tr>\n",
       "      <th>1</th>\n",
       "      <td>H</td>\n",
       "      <td>2017000000082</td>\n",
       "      <td>9</td>\n",
       "      <td>11200</td>\n",
       "      <td>4</td>\n",
       "      <td>53</td>\n",
       "      <td>1000000</td>\n",
       "      <td>1011189</td>\n",
       "      <td>127</td>\n",
       "      <td>4</td>\n",
       "      <td>...</td>\n",
       "      <td>144.0</td>\n",
       "      <td>40.0</td>\n",
       "      <td>126.0</td>\n",
       "      <td>34.0</td>\n",
       "      <td>182.0</td>\n",
       "      <td>129.0</td>\n",
       "      <td>38.0</td>\n",
       "      <td>39.0</td>\n",
       "      <td>113.0</td>\n",
       "      <td>117.0</td>\n",
       "    </tr>\n",
       "    <tr>\n",
       "      <th>2</th>\n",
       "      <td>H</td>\n",
       "      <td>2017000000099</td>\n",
       "      <td>9</td>\n",
       "      <td>11702</td>\n",
       "      <td>4</td>\n",
       "      <td>53</td>\n",
       "      <td>1000000</td>\n",
       "      <td>1011189</td>\n",
       "      <td>47</td>\n",
       "      <td>2</td>\n",
       "      <td>...</td>\n",
       "      <td>12.0</td>\n",
       "      <td>54.0</td>\n",
       "      <td>44.0</td>\n",
       "      <td>13.0</td>\n",
       "      <td>67.0</td>\n",
       "      <td>47.0</td>\n",
       "      <td>74.0</td>\n",
       "      <td>60.0</td>\n",
       "      <td>50.0</td>\n",
       "      <td>55.0</td>\n",
       "    </tr>\n",
       "    <tr>\n",
       "      <th>3</th>\n",
       "      <td>H</td>\n",
       "      <td>2017000000103</td>\n",
       "      <td>9</td>\n",
       "      <td>10100</td>\n",
       "      <td>4</td>\n",
       "      <td>53</td>\n",
       "      <td>1000000</td>\n",
       "      <td>1011189</td>\n",
       "      <td>52</td>\n",
       "      <td>3</td>\n",
       "      <td>...</td>\n",
       "      <td>63.0</td>\n",
       "      <td>15.0</td>\n",
       "      <td>11.0</td>\n",
       "      <td>49.0</td>\n",
       "      <td>48.0</td>\n",
       "      <td>19.0</td>\n",
       "      <td>77.0</td>\n",
       "      <td>50.0</td>\n",
       "      <td>88.0</td>\n",
       "      <td>58.0</td>\n",
       "    </tr>\n",
       "    <tr>\n",
       "      <th>4</th>\n",
       "      <td>H</td>\n",
       "      <td>2017000000108</td>\n",
       "      <td>9</td>\n",
       "      <td>11603</td>\n",
       "      <td>4</td>\n",
       "      <td>53</td>\n",
       "      <td>1000000</td>\n",
       "      <td>1011189</td>\n",
       "      <td>111</td>\n",
       "      <td>2</td>\n",
       "      <td>...</td>\n",
       "      <td>193.0</td>\n",
       "      <td>33.0</td>\n",
       "      <td>107.0</td>\n",
       "      <td>169.0</td>\n",
       "      <td>36.0</td>\n",
       "      <td>29.0</td>\n",
       "      <td>101.0</td>\n",
       "      <td>119.0</td>\n",
       "      <td>177.0</td>\n",
       "      <td>108.0</td>\n",
       "    </tr>\n",
       "  </tbody>\n",
       "</table>\n",
       "<p>5 rows × 513 columns</p>\n",
       "</div>"
      ],
      "text/plain": [
       "  RT_x       SERIALNO  DIVISION_x   PUMA  REGION_x  ST   ADJHSG  ADJINC_x  \\\n",
       "0    H  2017000000027           9  11603         4  53  1000000   1011189   \n",
       "1    H  2017000000082           9  11200         4  53  1000000   1011189   \n",
       "2    H  2017000000099           9  11702         4  53  1000000   1011189   \n",
       "3    H  2017000000103           9  10100         4  53  1000000   1011189   \n",
       "4    H  2017000000108           9  11603         4  53  1000000   1011189   \n",
       "\n",
       "   WGTP  NP   ...     PWGTP71  PWGTP72  PWGTP73  PWGTP74  PWGTP75  PWGTP76  \\\n",
       "0   126   1   ...        36.0    104.0    125.0    120.0    114.0    216.0   \n",
       "1   127   4   ...       144.0     40.0    126.0     34.0    182.0    129.0   \n",
       "2    47   2   ...        12.0     54.0     44.0     13.0     67.0     47.0   \n",
       "3    52   3   ...        63.0     15.0     11.0     49.0     48.0     19.0   \n",
       "4   111   2   ...       193.0     33.0    107.0    169.0     36.0     29.0   \n",
       "\n",
       "   PWGTP77  PWGTP78  PWGTP79  PWGTP80  \n",
       "0     39.0    122.0    101.0    244.0  \n",
       "1     38.0     39.0    113.0    117.0  \n",
       "2     74.0     60.0     50.0     55.0  \n",
       "3     77.0     50.0     88.0     58.0  \n",
       "4    101.0    119.0    177.0    108.0  \n",
       "\n",
       "[5 rows x 513 columns]"
      ]
     },
     "execution_count": 15,
     "metadata": {},
     "output_type": "execute_result"
    }
   ],
   "source": [
    "pumas_hh_merge.head()"
   ]
  },
  {
   "cell_type": "code",
   "execution_count": 16,
   "metadata": {
    "collapsed": true
   },
   "outputs": [],
   "source": [
    "pumas_hh_merge.reset_index(inplace=True)"
   ]
  },
  {
   "cell_type": "markdown",
   "metadata": {},
   "source": [
    "### Make basic adjustments"
   ]
  },
  {
   "cell_type": "code",
   "execution_count": 17,
   "metadata": {
    "collapsed": true
   },
   "outputs": [],
   "source": [
    "# adjust household income\n",
    "pumas_hh_merge.HINCP = pumas_hh_merge.HINCP * (pumas_hh_merge.ADJINC_x/1000000)"
   ]
  },
  {
   "cell_type": "code",
   "execution_count": 18,
   "metadata": {
    "collapsed": true
   },
   "outputs": [],
   "source": [
    "# adjust person's wages \n",
    "pumas_hh_merge.WAGP = pumas_hh_merge.WAGP * (pumas_hh_merge.ADJINC_x/1000000)"
   ]
  },
  {
   "cell_type": "code",
   "execution_count": 19,
   "metadata": {
    "collapsed": false,
    "scrolled": false
   },
   "outputs": [
    {
     "data": {
      "text/plain": [
       "86    NaN\n",
       "110   NaN\n",
       "112   NaN\n",
       "131   NaN\n",
       "156   NaN\n",
       "Name: SEX, dtype: float64"
      ]
     },
     "execution_count": 19,
     "metadata": {},
     "output_type": "execute_result"
    }
   ],
   "source": [
    "# explore a vacant household and make sure person-level data is NA / missing\n",
    "pumas_hh_merge[pumas_hh_merge.NP==0]['SEX'].head()"
   ]
  },
  {
   "cell_type": "code",
   "execution_count": 20,
   "metadata": {
    "collapsed": false
   },
   "outputs": [
    {
     "name": "stdout",
     "output_type": "stream",
     "text": [
      "34091\n",
      "29109\n"
     ]
    }
   ],
   "source": [
    "# drop vacant households\n",
    "print(len(pumas_hh_merge))\n",
    "print(len(pumas_hh_merge.dropna(subset=['NP','HINCP'])))\n",
    "pumas_hh_merge = pumas_hh_merge.dropna(subset=['NP','HINCP'])"
   ]
  },
  {
   "cell_type": "code",
   "execution_count": 21,
   "metadata": {
    "collapsed": false
   },
   "outputs": [
    {
     "name": "stdout",
     "output_type": "stream",
     "text": [
      "False\n",
      "0\n"
     ]
    }
   ],
   "source": [
    "# Confirm no null values because vacant households were excluded \n",
    "print(pumas_hh_merge['FS'].isnull().values.any())\n",
    "print(pumas_hh_merge['FS'].isnull().sum())"
   ]
  },
  {
   "cell_type": "markdown",
   "metadata": {},
   "source": [
    "### Cross-tab main dependent variable, FS "
   ]
  },
  {
   "cell_type": "markdown",
   "metadata": {},
   "source": [
    "FS = Yearly food stamp/Supplemental Nutrition Assistance Program (SNAP) recipiency\n",
    "\n",
    "b .N/A (vacant)\n",
    "\n",
    "1 .Yes\n",
    "\n",
    "2 .No"
   ]
  },
  {
   "cell_type": "code",
   "execution_count": 22,
   "metadata": {
    "collapsed": false
   },
   "outputs": [
    {
     "data": {
      "text/plain": [
       "FS\n",
       "1.0     343469\n",
       "2.0    2496901\n",
       "Name: WGTP, dtype: int64"
      ]
     },
     "execution_count": 22,
     "metadata": {},
     "output_type": "execute_result"
    }
   ],
   "source": [
    "pumas_hh_merge.groupby('FS').sum()['WGTP']\n",
    "# Automatically excludes group quarters because their WGTP = 0"
   ]
  },
  {
   "cell_type": "code",
   "execution_count": 24,
   "metadata": {
    "collapsed": false
   },
   "outputs": [
    {
     "data": {
      "text/html": [
       "<div>\n",
       "<style>\n",
       "    .dataframe thead tr:only-child th {\n",
       "        text-align: right;\n",
       "    }\n",
       "\n",
       "    .dataframe thead th {\n",
       "        text-align: left;\n",
       "    }\n",
       "\n",
       "    .dataframe tbody tr th {\n",
       "        vertical-align: top;\n",
       "    }\n",
       "</style>\n",
       "<table border=\"1\" class=\"dataframe\">\n",
       "  <thead>\n",
       "    <tr style=\"text-align: right;\">\n",
       "      <th>FS</th>\n",
       "      <th>1.0</th>\n",
       "      <th>2.0</th>\n",
       "      <th>All</th>\n",
       "    </tr>\n",
       "    <tr>\n",
       "      <th>PUMA</th>\n",
       "      <th></th>\n",
       "      <th></th>\n",
       "      <th></th>\n",
       "    </tr>\n",
       "  </thead>\n",
       "  <tbody>\n",
       "    <tr>\n",
       "      <th>10100</th>\n",
       "      <td>12220.0</td>\n",
       "      <td>76416.0</td>\n",
       "      <td>88636.0</td>\n",
       "    </tr>\n",
       "    <tr>\n",
       "      <th>10200</th>\n",
       "      <td>10692.0</td>\n",
       "      <td>80878.0</td>\n",
       "      <td>91570.0</td>\n",
       "    </tr>\n",
       "    <tr>\n",
       "      <th>10300</th>\n",
       "      <td>3722.0</td>\n",
       "      <td>38747.0</td>\n",
       "      <td>42469.0</td>\n",
       "    </tr>\n",
       "    <tr>\n",
       "      <th>10400</th>\n",
       "      <td>7629.0</td>\n",
       "      <td>36226.0</td>\n",
       "      <td>43855.0</td>\n",
       "    </tr>\n",
       "    <tr>\n",
       "      <th>10501</th>\n",
       "      <td>9840.0</td>\n",
       "      <td>41653.0</td>\n",
       "      <td>51493.0</td>\n",
       "    </tr>\n",
       "  </tbody>\n",
       "</table>\n",
       "</div>"
      ],
      "text/plain": [
       "FS         1.0      2.0      All\n",
       "PUMA                            \n",
       "10100  12220.0  76416.0  88636.0\n",
       "10200  10692.0  80878.0  91570.0\n",
       "10300   3722.0  38747.0  42469.0\n",
       "10400   7629.0  36226.0  43855.0\n",
       "10501   9840.0  41653.0  51493.0"
      ]
     },
     "execution_count": 24,
     "metadata": {},
     "output_type": "execute_result"
    }
   ],
   "source": [
    "# Crosstab of # of households on SNAP & not on SNAP by PUMA\n",
    "pd.crosstab(pumas_hh_merge.PUMA,pumas_hh_merge.FS,pumas_hh_merge.WGTP,aggfunc=sum,margins=True).head()"
   ]
  },
  {
   "cell_type": "code",
   "execution_count": 25,
   "metadata": {
    "collapsed": true
   },
   "outputs": [],
   "source": [
    "df = pd.crosstab(pumas_hh_merge.PUMA,pumas_hh_merge.FS,pumas_hh_merge.WGTP,aggfunc=sum,margins=True)"
   ]
  },
  {
   "cell_type": "code",
   "execution_count": 26,
   "metadata": {
    "collapsed": false
   },
   "outputs": [],
   "source": [
    "column_names = df.columns.values\n",
    "column_names[0] = 'receives_snap'\n",
    "column_names[1] = 'no_snap'\n",
    "df.columns = column_names\n",
    "df.reset_index(inplace=True)\n",
    "df['perc_snap'] = df.receives_snap/df.All"
   ]
  },
  {
   "cell_type": "code",
   "execution_count": 27,
   "metadata": {
    "collapsed": false
   },
   "outputs": [
    {
     "data": {
      "text/html": [
       "<div>\n",
       "<style>\n",
       "    .dataframe thead tr:only-child th {\n",
       "        text-align: right;\n",
       "    }\n",
       "\n",
       "    .dataframe thead th {\n",
       "        text-align: left;\n",
       "    }\n",
       "\n",
       "    .dataframe tbody tr th {\n",
       "        vertical-align: top;\n",
       "    }\n",
       "</style>\n",
       "<table border=\"1\" class=\"dataframe\">\n",
       "  <thead>\n",
       "    <tr style=\"text-align: right;\">\n",
       "      <th></th>\n",
       "      <th>PUMA</th>\n",
       "      <th>receives_snap</th>\n",
       "      <th>no_snap</th>\n",
       "      <th>All</th>\n",
       "      <th>perc_snap</th>\n",
       "    </tr>\n",
       "  </thead>\n",
       "  <tbody>\n",
       "    <tr>\n",
       "      <th>0</th>\n",
       "      <td>10100</td>\n",
       "      <td>12220.0</td>\n",
       "      <td>76416.0</td>\n",
       "      <td>88636.0</td>\n",
       "      <td>0.137867</td>\n",
       "    </tr>\n",
       "    <tr>\n",
       "      <th>1</th>\n",
       "      <td>10200</td>\n",
       "      <td>10692.0</td>\n",
       "      <td>80878.0</td>\n",
       "      <td>91570.0</td>\n",
       "      <td>0.116763</td>\n",
       "    </tr>\n",
       "    <tr>\n",
       "      <th>2</th>\n",
       "      <td>10300</td>\n",
       "      <td>3722.0</td>\n",
       "      <td>38747.0</td>\n",
       "      <td>42469.0</td>\n",
       "      <td>0.087640</td>\n",
       "    </tr>\n",
       "    <tr>\n",
       "      <th>3</th>\n",
       "      <td>10400</td>\n",
       "      <td>7629.0</td>\n",
       "      <td>36226.0</td>\n",
       "      <td>43855.0</td>\n",
       "      <td>0.173960</td>\n",
       "    </tr>\n",
       "    <tr>\n",
       "      <th>4</th>\n",
       "      <td>10501</td>\n",
       "      <td>9840.0</td>\n",
       "      <td>41653.0</td>\n",
       "      <td>51493.0</td>\n",
       "      <td>0.191094</td>\n",
       "    </tr>\n",
       "  </tbody>\n",
       "</table>\n",
       "</div>"
      ],
      "text/plain": [
       "    PUMA  receives_snap  no_snap      All  perc_snap\n",
       "0  10100        12220.0  76416.0  88636.0   0.137867\n",
       "1  10200        10692.0  80878.0  91570.0   0.116763\n",
       "2  10300         3722.0  38747.0  42469.0   0.087640\n",
       "3  10400         7629.0  36226.0  43855.0   0.173960\n",
       "4  10501         9840.0  41653.0  51493.0   0.191094"
      ]
     },
     "execution_count": 27,
     "metadata": {},
     "output_type": "execute_result"
    }
   ],
   "source": [
    "df.head()"
   ]
  },
  {
   "cell_type": "code",
   "execution_count": 29,
   "metadata": {
    "collapsed": false
   },
   "outputs": [
    {
     "name": "stdout",
     "output_type": "stream",
     "text": [
      "<type 'int'>\n",
      "<type 'str'>\n"
     ]
    }
   ],
   "source": [
    "# Note \"All\" is a string type while all other \"PUMA\" values are int\n",
    "print(type(df.PUMA[55]))\n",
    "print(type(df.PUMA[len(df.PUMA)-1]))"
   ]
  },
  {
   "cell_type": "markdown",
   "metadata": {},
   "source": [
    "### Plot location of percentages"
   ]
  },
  {
   "cell_type": "code",
   "execution_count": 30,
   "metadata": {
    "collapsed": false
   },
   "outputs": [],
   "source": [
    "# Load PUMA shapefile for WA state\n",
    "puma_shape = fiona.open(\"Data/cb_2017_53_puma10_500k.shp\")"
   ]
  },
  {
   "cell_type": "code",
   "execution_count": 31,
   "metadata": {
    "collapsed": false
   },
   "outputs": [
    {
     "data": {
      "text/plain": [
       "u'11801'"
      ]
     },
     "execution_count": 31,
     "metadata": {},
     "output_type": "execute_result"
    }
   ],
   "source": [
    "first = puma_shape.next()\n",
    "first['properties']['PUMACE10']"
   ]
  },
  {
   "cell_type": "code",
   "execution_count": 32,
   "metadata": {
    "collapsed": false
   },
   "outputs": [
    {
     "name": "stdout",
     "output_type": "stream",
     "text": [
      "{'geometry': 'Polygon', 'properties': OrderedDict([(u'STATEFP10', 'str:2'), (u'PUMACE10', 'str:5'), (u'AFFGEOID10', 'str:16'), (u'GEOID10', 'str:7'), (u'NAME10', 'str:100'), (u'LSAD10', 'str:2'), (u'ALAND10', 'int:14'), (u'AWATER10', 'int:14')])}\n"
     ]
    }
   ],
   "source": [
    "# See what single element in shapefile looks like\n",
    "print(puma_shape.schema)"
   ]
  },
  {
   "cell_type": "code",
   "execution_count": 33,
   "metadata": {
    "collapsed": true
   },
   "outputs": [],
   "source": [
    "# Create basemap \n",
    "all_polygons = [item[1] for item in puma_shape.items()]"
   ]
  },
  {
   "cell_type": "code",
   "execution_count": 34,
   "metadata": {
    "collapsed": false
   },
   "outputs": [
    {
     "data": {
      "image/png": "[encoded data removed]",
      "text/plain": [
       "<matplotlib.figure.Figure at 0x1a1d267050>"
      ]
     },
     "metadata": {},
     "output_type": "display_data"
    }
   ],
   "source": [
    "fig = plt.figure()\n",
    "ax = fig.gca()\n",
    "BLUE = '#6699cc'\n",
    "for poly in all_polygons:\n",
    "    ax.add_patch(PolygonPatch(poly['geometry'], fc=BLUE, ec=BLUE, alpha=0.5,zorder=2))\n",
    "ax.axis('scaled')\n",
    "plt.show()"
   ]
  },
  {
   "cell_type": "code",
   "execution_count": 35,
   "metadata": {
    "collapsed": false
   },
   "outputs": [],
   "source": [
    "# Write percent snap data to geographic file\n",
    "    # Only have to run this once. Just load \"intersection.shp\" after first time (go next cell onwards)\n",
    "# Reference this page: https://gis.stackexchange.com/questions/178765/intersecting-two-shapefiles-from-python-or-command-line\n",
    "\n",
    "schema =  {'geometry': 'Polygon','properties': {'puma_code': 'int','perc_snap':'float'}}\n",
    "\n",
    "with fiona.open('intersection.shp', 'w',driver='ESRI Shapefile', schema=schema) as output:\n",
    "    for pum in fiona.open('Data/cb_2017_53_puma10_500k.shp'):\n",
    "        for index, row in df.iterrows():\n",
    "            if int(pum['properties']['PUMACE10']) == row.PUMA:\n",
    "                #print(row.PUMA)\n",
    "                prop = {'puma_code': row.PUMA, 'perc_snap': row.perc_snap}\n",
    "                output.write({'geometry':mapping(shape(pum['geometry'])),'properties': prop})\n",
    "                #print('mapping worked!')"
   ]
  },
  {
   "cell_type": "code",
   "execution_count": 37,
   "metadata": {
    "collapsed": true
   },
   "outputs": [],
   "source": [
    "merged_shape = fiona.open(\"intersection.shp\")"
   ]
  },
  {
   "cell_type": "code",
   "execution_count": 38,
   "metadata": {
    "collapsed": false
   },
   "outputs": [
    {
     "data": {
      "text/html": [
       "<div>\n",
       "<style>\n",
       "    .dataframe thead tr:only-child th {\n",
       "        text-align: right;\n",
       "    }\n",
       "\n",
       "    .dataframe thead th {\n",
       "        text-align: left;\n",
       "    }\n",
       "\n",
       "    .dataframe tbody tr th {\n",
       "        vertical-align: top;\n",
       "    }\n",
       "</style>\n",
       "<table border=\"1\" class=\"dataframe\">\n",
       "  <thead>\n",
       "    <tr style=\"text-align: right;\">\n",
       "      <th></th>\n",
       "      <th>PUMA</th>\n",
       "      <th>receives_snap</th>\n",
       "      <th>no_snap</th>\n",
       "      <th>All</th>\n",
       "      <th>perc_snap</th>\n",
       "    </tr>\n",
       "  </thead>\n",
       "  <tbody>\n",
       "    <tr>\n",
       "      <th>0</th>\n",
       "      <td>10100</td>\n",
       "      <td>12220.0</td>\n",
       "      <td>76416.0</td>\n",
       "      <td>88636.0</td>\n",
       "      <td>0.137867</td>\n",
       "    </tr>\n",
       "    <tr>\n",
       "      <th>1</th>\n",
       "      <td>10200</td>\n",
       "      <td>10692.0</td>\n",
       "      <td>80878.0</td>\n",
       "      <td>91570.0</td>\n",
       "      <td>0.116763</td>\n",
       "    </tr>\n",
       "    <tr>\n",
       "      <th>2</th>\n",
       "      <td>10300</td>\n",
       "      <td>3722.0</td>\n",
       "      <td>38747.0</td>\n",
       "      <td>42469.0</td>\n",
       "      <td>0.087640</td>\n",
       "    </tr>\n",
       "    <tr>\n",
       "      <th>3</th>\n",
       "      <td>10400</td>\n",
       "      <td>7629.0</td>\n",
       "      <td>36226.0</td>\n",
       "      <td>43855.0</td>\n",
       "      <td>0.173960</td>\n",
       "    </tr>\n",
       "    <tr>\n",
       "      <th>4</th>\n",
       "      <td>10501</td>\n",
       "      <td>9840.0</td>\n",
       "      <td>41653.0</td>\n",
       "      <td>51493.0</td>\n",
       "      <td>0.191094</td>\n",
       "    </tr>\n",
       "    <tr>\n",
       "      <th>5</th>\n",
       "      <td>10502</td>\n",
       "      <td>8252.0</td>\n",
       "      <td>44970.0</td>\n",
       "      <td>53222.0</td>\n",
       "      <td>0.155049</td>\n",
       "    </tr>\n",
       "    <tr>\n",
       "      <th>6</th>\n",
       "      <td>10503</td>\n",
       "      <td>9052.0</td>\n",
       "      <td>47382.0</td>\n",
       "      <td>56434.0</td>\n",
       "      <td>0.160400</td>\n",
       "    </tr>\n",
       "    <tr>\n",
       "      <th>7</th>\n",
       "      <td>10504</td>\n",
       "      <td>3579.0</td>\n",
       "      <td>36221.0</td>\n",
       "      <td>39800.0</td>\n",
       "      <td>0.089925</td>\n",
       "    </tr>\n",
       "    <tr>\n",
       "      <th>8</th>\n",
       "      <td>10600</td>\n",
       "      <td>4906.0</td>\n",
       "      <td>37530.0</td>\n",
       "      <td>42436.0</td>\n",
       "      <td>0.115609</td>\n",
       "    </tr>\n",
       "    <tr>\n",
       "      <th>9</th>\n",
       "      <td>10701</td>\n",
       "      <td>6305.0</td>\n",
       "      <td>33733.0</td>\n",
       "      <td>40038.0</td>\n",
       "      <td>0.157475</td>\n",
       "    </tr>\n",
       "    <tr>\n",
       "      <th>10</th>\n",
       "      <td>10702</td>\n",
       "      <td>5507.0</td>\n",
       "      <td>37056.0</td>\n",
       "      <td>42563.0</td>\n",
       "      <td>0.129385</td>\n",
       "    </tr>\n",
       "    <tr>\n",
       "      <th>11</th>\n",
       "      <td>10703</td>\n",
       "      <td>5512.0</td>\n",
       "      <td>33016.0</td>\n",
       "      <td>38528.0</td>\n",
       "      <td>0.143065</td>\n",
       "    </tr>\n",
       "    <tr>\n",
       "      <th>12</th>\n",
       "      <td>10800</td>\n",
       "      <td>8468.0</td>\n",
       "      <td>40108.0</td>\n",
       "      <td>48576.0</td>\n",
       "      <td>0.174325</td>\n",
       "    </tr>\n",
       "    <tr>\n",
       "      <th>13</th>\n",
       "      <td>10901</td>\n",
       "      <td>10970.0</td>\n",
       "      <td>34633.0</td>\n",
       "      <td>45603.0</td>\n",
       "      <td>0.240554</td>\n",
       "    </tr>\n",
       "    <tr>\n",
       "      <th>14</th>\n",
       "      <td>10902</td>\n",
       "      <td>10123.0</td>\n",
       "      <td>26380.0</td>\n",
       "      <td>36503.0</td>\n",
       "      <td>0.277320</td>\n",
       "    </tr>\n",
       "    <tr>\n",
       "      <th>15</th>\n",
       "      <td>11000</td>\n",
       "      <td>6826.0</td>\n",
       "      <td>37784.0</td>\n",
       "      <td>44610.0</td>\n",
       "      <td>0.153015</td>\n",
       "    </tr>\n",
       "    <tr>\n",
       "      <th>16</th>\n",
       "      <td>11101</td>\n",
       "      <td>9382.0</td>\n",
       "      <td>37608.0</td>\n",
       "      <td>46990.0</td>\n",
       "      <td>0.199660</td>\n",
       "    </tr>\n",
       "    <tr>\n",
       "      <th>17</th>\n",
       "      <td>11102</td>\n",
       "      <td>4173.0</td>\n",
       "      <td>41226.0</td>\n",
       "      <td>45399.0</td>\n",
       "      <td>0.091918</td>\n",
       "    </tr>\n",
       "    <tr>\n",
       "      <th>18</th>\n",
       "      <td>11103</td>\n",
       "      <td>3085.0</td>\n",
       "      <td>37415.0</td>\n",
       "      <td>40500.0</td>\n",
       "      <td>0.076173</td>\n",
       "    </tr>\n",
       "    <tr>\n",
       "      <th>19</th>\n",
       "      <td>11104</td>\n",
       "      <td>5240.0</td>\n",
       "      <td>35449.0</td>\n",
       "      <td>40689.0</td>\n",
       "      <td>0.128782</td>\n",
       "    </tr>\n",
       "    <tr>\n",
       "      <th>20</th>\n",
       "      <td>11200</td>\n",
       "      <td>10463.0</td>\n",
       "      <td>40839.0</td>\n",
       "      <td>51302.0</td>\n",
       "      <td>0.203949</td>\n",
       "    </tr>\n",
       "    <tr>\n",
       "      <th>21</th>\n",
       "      <td>11300</td>\n",
       "      <td>11442.0</td>\n",
       "      <td>42479.0</td>\n",
       "      <td>53921.0</td>\n",
       "      <td>0.212199</td>\n",
       "    </tr>\n",
       "    <tr>\n",
       "      <th>22</th>\n",
       "      <td>11401</td>\n",
       "      <td>7453.0</td>\n",
       "      <td>62612.0</td>\n",
       "      <td>70065.0</td>\n",
       "      <td>0.106373</td>\n",
       "    </tr>\n",
       "    <tr>\n",
       "      <th>23</th>\n",
       "      <td>11402</td>\n",
       "      <td>3889.0</td>\n",
       "      <td>38122.0</td>\n",
       "      <td>42011.0</td>\n",
       "      <td>0.092571</td>\n",
       "    </tr>\n",
       "    <tr>\n",
       "      <th>24</th>\n",
       "      <td>11501</td>\n",
       "      <td>9941.0</td>\n",
       "      <td>41529.0</td>\n",
       "      <td>51470.0</td>\n",
       "      <td>0.193142</td>\n",
       "    </tr>\n",
       "    <tr>\n",
       "      <th>25</th>\n",
       "      <td>11502</td>\n",
       "      <td>3041.0</td>\n",
       "      <td>45466.0</td>\n",
       "      <td>48507.0</td>\n",
       "      <td>0.062692</td>\n",
       "    </tr>\n",
       "    <tr>\n",
       "      <th>26</th>\n",
       "      <td>11503</td>\n",
       "      <td>5612.0</td>\n",
       "      <td>37013.0</td>\n",
       "      <td>42625.0</td>\n",
       "      <td>0.131660</td>\n",
       "    </tr>\n",
       "    <tr>\n",
       "      <th>27</th>\n",
       "      <td>11504</td>\n",
       "      <td>10553.0</td>\n",
       "      <td>36736.0</td>\n",
       "      <td>47289.0</td>\n",
       "      <td>0.223160</td>\n",
       "    </tr>\n",
       "    <tr>\n",
       "      <th>28</th>\n",
       "      <td>11505</td>\n",
       "      <td>2499.0</td>\n",
       "      <td>43465.0</td>\n",
       "      <td>45964.0</td>\n",
       "      <td>0.054369</td>\n",
       "    </tr>\n",
       "    <tr>\n",
       "      <th>29</th>\n",
       "      <td>11506</td>\n",
       "      <td>5905.0</td>\n",
       "      <td>40066.0</td>\n",
       "      <td>45971.0</td>\n",
       "      <td>0.128451</td>\n",
       "    </tr>\n",
       "    <tr>\n",
       "      <th>30</th>\n",
       "      <td>11507</td>\n",
       "      <td>4699.0</td>\n",
       "      <td>34743.0</td>\n",
       "      <td>39442.0</td>\n",
       "      <td>0.119137</td>\n",
       "    </tr>\n",
       "    <tr>\n",
       "      <th>31</th>\n",
       "      <td>11601</td>\n",
       "      <td>4034.0</td>\n",
       "      <td>71120.0</td>\n",
       "      <td>75154.0</td>\n",
       "      <td>0.053676</td>\n",
       "    </tr>\n",
       "    <tr>\n",
       "      <th>32</th>\n",
       "      <td>11602</td>\n",
       "      <td>3239.0</td>\n",
       "      <td>49915.0</td>\n",
       "      <td>53154.0</td>\n",
       "      <td>0.060936</td>\n",
       "    </tr>\n",
       "    <tr>\n",
       "      <th>33</th>\n",
       "      <td>11603</td>\n",
       "      <td>4628.0</td>\n",
       "      <td>75460.0</td>\n",
       "      <td>80088.0</td>\n",
       "      <td>0.057786</td>\n",
       "    </tr>\n",
       "    <tr>\n",
       "      <th>34</th>\n",
       "      <td>11604</td>\n",
       "      <td>7490.0</td>\n",
       "      <td>53661.0</td>\n",
       "      <td>61151.0</td>\n",
       "      <td>0.122484</td>\n",
       "    </tr>\n",
       "    <tr>\n",
       "      <th>35</th>\n",
       "      <td>11605</td>\n",
       "      <td>7695.0</td>\n",
       "      <td>52429.0</td>\n",
       "      <td>60124.0</td>\n",
       "      <td>0.127985</td>\n",
       "    </tr>\n",
       "    <tr>\n",
       "      <th>36</th>\n",
       "      <td>11606</td>\n",
       "      <td>2751.0</td>\n",
       "      <td>44910.0</td>\n",
       "      <td>47661.0</td>\n",
       "      <td>0.057720</td>\n",
       "    </tr>\n",
       "    <tr>\n",
       "      <th>37</th>\n",
       "      <td>11607</td>\n",
       "      <td>1563.0</td>\n",
       "      <td>59682.0</td>\n",
       "      <td>61245.0</td>\n",
       "      <td>0.025520</td>\n",
       "    </tr>\n",
       "    <tr>\n",
       "      <th>38</th>\n",
       "      <td>11608</td>\n",
       "      <td>3265.0</td>\n",
       "      <td>57086.0</td>\n",
       "      <td>60351.0</td>\n",
       "      <td>0.054100</td>\n",
       "    </tr>\n",
       "    <tr>\n",
       "      <th>39</th>\n",
       "      <td>11609</td>\n",
       "      <td>1041.0</td>\n",
       "      <td>54501.0</td>\n",
       "      <td>55542.0</td>\n",
       "      <td>0.018743</td>\n",
       "    </tr>\n",
       "    <tr>\n",
       "      <th>40</th>\n",
       "      <td>11610</td>\n",
       "      <td>7451.0</td>\n",
       "      <td>46678.0</td>\n",
       "      <td>54129.0</td>\n",
       "      <td>0.137653</td>\n",
       "    </tr>\n",
       "    <tr>\n",
       "      <th>41</th>\n",
       "      <td>11611</td>\n",
       "      <td>8374.0</td>\n",
       "      <td>41291.0</td>\n",
       "      <td>49665.0</td>\n",
       "      <td>0.168610</td>\n",
       "    </tr>\n",
       "    <tr>\n",
       "      <th>42</th>\n",
       "      <td>11612</td>\n",
       "      <td>6070.0</td>\n",
       "      <td>41832.0</td>\n",
       "      <td>47902.0</td>\n",
       "      <td>0.126717</td>\n",
       "    </tr>\n",
       "    <tr>\n",
       "      <th>43</th>\n",
       "      <td>11613</td>\n",
       "      <td>7953.0</td>\n",
       "      <td>36334.0</td>\n",
       "      <td>44287.0</td>\n",
       "      <td>0.179579</td>\n",
       "    </tr>\n",
       "    <tr>\n",
       "      <th>44</th>\n",
       "      <td>11614</td>\n",
       "      <td>7419.0</td>\n",
       "      <td>34746.0</td>\n",
       "      <td>42165.0</td>\n",
       "      <td>0.175952</td>\n",
       "    </tr>\n",
       "    <tr>\n",
       "      <th>45</th>\n",
       "      <td>11615</td>\n",
       "      <td>2718.0</td>\n",
       "      <td>40621.0</td>\n",
       "      <td>43339.0</td>\n",
       "      <td>0.062715</td>\n",
       "    </tr>\n",
       "    <tr>\n",
       "      <th>46</th>\n",
       "      <td>11616</td>\n",
       "      <td>574.0</td>\n",
       "      <td>40106.0</td>\n",
       "      <td>40680.0</td>\n",
       "      <td>0.014110</td>\n",
       "    </tr>\n",
       "    <tr>\n",
       "      <th>47</th>\n",
       "      <td>11701</td>\n",
       "      <td>3857.0</td>\n",
       "      <td>44669.0</td>\n",
       "      <td>48526.0</td>\n",
       "      <td>0.079483</td>\n",
       "    </tr>\n",
       "    <tr>\n",
       "      <th>48</th>\n",
       "      <td>11702</td>\n",
       "      <td>5651.0</td>\n",
       "      <td>44652.0</td>\n",
       "      <td>50303.0</td>\n",
       "      <td>0.112339</td>\n",
       "    </tr>\n",
       "    <tr>\n",
       "      <th>49</th>\n",
       "      <td>11703</td>\n",
       "      <td>7528.0</td>\n",
       "      <td>38159.0</td>\n",
       "      <td>45687.0</td>\n",
       "      <td>0.164773</td>\n",
       "    </tr>\n",
       "    <tr>\n",
       "      <th>50</th>\n",
       "      <td>11704</td>\n",
       "      <td>1484.0</td>\n",
       "      <td>42717.0</td>\n",
       "      <td>44201.0</td>\n",
       "      <td>0.033574</td>\n",
       "    </tr>\n",
       "    <tr>\n",
       "      <th>51</th>\n",
       "      <td>11705</td>\n",
       "      <td>4081.0</td>\n",
       "      <td>44551.0</td>\n",
       "      <td>48632.0</td>\n",
       "      <td>0.083916</td>\n",
       "    </tr>\n",
       "    <tr>\n",
       "      <th>52</th>\n",
       "      <td>11706</td>\n",
       "      <td>5730.0</td>\n",
       "      <td>49350.0</td>\n",
       "      <td>55080.0</td>\n",
       "      <td>0.104031</td>\n",
       "    </tr>\n",
       "    <tr>\n",
       "      <th>53</th>\n",
       "      <td>11801</td>\n",
       "      <td>4722.0</td>\n",
       "      <td>45660.0</td>\n",
       "      <td>50382.0</td>\n",
       "      <td>0.093724</td>\n",
       "    </tr>\n",
       "    <tr>\n",
       "      <th>54</th>\n",
       "      <td>11802</td>\n",
       "      <td>7900.0</td>\n",
       "      <td>46620.0</td>\n",
       "      <td>54520.0</td>\n",
       "      <td>0.144901</td>\n",
       "    </tr>\n",
       "    <tr>\n",
       "      <th>55</th>\n",
       "      <td>11900</td>\n",
       "      <td>5271.0</td>\n",
       "      <td>42650.0</td>\n",
       "      <td>47921.0</td>\n",
       "      <td>0.109994</td>\n",
       "    </tr>\n",
       "    <tr>\n",
       "      <th>56</th>\n",
       "      <td>All</td>\n",
       "      <td>343469.0</td>\n",
       "      <td>2496901.0</td>\n",
       "      <td>2840370.0</td>\n",
       "      <td>0.120924</td>\n",
       "    </tr>\n",
       "  </tbody>\n",
       "</table>\n",
       "</div>"
      ],
      "text/plain": [
       "     PUMA  receives_snap    no_snap        All  perc_snap\n",
       "0   10100        12220.0    76416.0    88636.0   0.137867\n",
       "1   10200        10692.0    80878.0    91570.0   0.116763\n",
       "2   10300         3722.0    38747.0    42469.0   0.087640\n",
       "3   10400         7629.0    36226.0    43855.0   0.173960\n",
       "4   10501         9840.0    41653.0    51493.0   0.191094\n",
       "5   10502         8252.0    44970.0    53222.0   0.155049\n",
       "6   10503         9052.0    47382.0    56434.0   0.160400\n",
       "7   10504         3579.0    36221.0    39800.0   0.089925\n",
       "8   10600         4906.0    37530.0    42436.0   0.115609\n",
       "9   10701         6305.0    33733.0    40038.0   0.157475\n",
       "10  10702         5507.0    37056.0    42563.0   0.129385\n",
       "11  10703         5512.0    33016.0    38528.0   0.143065\n",
       "12  10800         8468.0    40108.0    48576.0   0.174325\n",
       "13  10901        10970.0    34633.0    45603.0   0.240554\n",
       "14  10902        10123.0    26380.0    36503.0   0.277320\n",
       "15  11000         6826.0    37784.0    44610.0   0.153015\n",
       "16  11101         9382.0    37608.0    46990.0   0.199660\n",
       "17  11102         4173.0    41226.0    45399.0   0.091918\n",
       "18  11103         3085.0    37415.0    40500.0   0.076173\n",
       "19  11104         5240.0    35449.0    40689.0   0.128782\n",
       "20  11200        10463.0    40839.0    51302.0   0.203949\n",
       "21  11300        11442.0    42479.0    53921.0   0.212199\n",
       "22  11401         7453.0    62612.0    70065.0   0.106373\n",
       "23  11402         3889.0    38122.0    42011.0   0.092571\n",
       "24  11501         9941.0    41529.0    51470.0   0.193142\n",
       "25  11502         3041.0    45466.0    48507.0   0.062692\n",
       "26  11503         5612.0    37013.0    42625.0   0.131660\n",
       "27  11504        10553.0    36736.0    47289.0   0.223160\n",
       "28  11505         2499.0    43465.0    45964.0   0.054369\n",
       "29  11506         5905.0    40066.0    45971.0   0.128451\n",
       "30  11507         4699.0    34743.0    39442.0   0.119137\n",
       "31  11601         4034.0    71120.0    75154.0   0.053676\n",
       "32  11602         3239.0    49915.0    53154.0   0.060936\n",
       "33  11603         4628.0    75460.0    80088.0   0.057786\n",
       "34  11604         7490.0    53661.0    61151.0   0.122484\n",
       "35  11605         7695.0    52429.0    60124.0   0.127985\n",
       "36  11606         2751.0    44910.0    47661.0   0.057720\n",
       "37  11607         1563.0    59682.0    61245.0   0.025520\n",
       "38  11608         3265.0    57086.0    60351.0   0.054100\n",
       "39  11609         1041.0    54501.0    55542.0   0.018743\n",
       "40  11610         7451.0    46678.0    54129.0   0.137653\n",
       "41  11611         8374.0    41291.0    49665.0   0.168610\n",
       "42  11612         6070.0    41832.0    47902.0   0.126717\n",
       "43  11613         7953.0    36334.0    44287.0   0.179579\n",
       "44  11614         7419.0    34746.0    42165.0   0.175952\n",
       "45  11615         2718.0    40621.0    43339.0   0.062715\n",
       "46  11616          574.0    40106.0    40680.0   0.014110\n",
       "47  11701         3857.0    44669.0    48526.0   0.079483\n",
       "48  11702         5651.0    44652.0    50303.0   0.112339\n",
       "49  11703         7528.0    38159.0    45687.0   0.164773\n",
       "50  11704         1484.0    42717.0    44201.0   0.033574\n",
       "51  11705         4081.0    44551.0    48632.0   0.083916\n",
       "52  11706         5730.0    49350.0    55080.0   0.104031\n",
       "53  11801         4722.0    45660.0    50382.0   0.093724\n",
       "54  11802         7900.0    46620.0    54520.0   0.144901\n",
       "55  11900         5271.0    42650.0    47921.0   0.109994\n",
       "56    All       343469.0  2496901.0  2840370.0   0.120924"
      ]
     },
     "execution_count": 38,
     "metadata": {},
     "output_type": "execute_result"
    }
   ],
   "source": [
    "df"
   ]
  },
  {
   "cell_type": "code",
   "execution_count": 39,
   "metadata": {
    "collapsed": false
   },
   "outputs": [
    {
     "data": {
      "image/png": "[encoded data removed]",
      "text/plain": [
       "<matplotlib.figure.Figure at 0x1a166f9b50>"
      ]
     },
     "metadata": {},
     "output_type": "display_data"
    }
   ],
   "source": [
    "# Map shapefile for WA state\n",
    "fig = plt.figure(figsize=(20,10))\n",
    "ax = fig.gca()\n",
    "alphas = []\n",
    "\n",
    "for _, poly in merged_shape.items():\n",
    "    ax.add_patch(PolygonPatch(poly['geometry'], fc='BLUE', ec='BLUE', alpha=poly['properties']['perc_snap']+0.15))    \n",
    "    alphas.append(poly['properties']['perc_snap'])\n",
    "ax.axis('scaled')\n",
    "ax.grid(False)\n",
    "plt.figtext(.5,.84,'Perc. of Households receiving SNAP, WA State', fontsize=25, fontweight='bold',ha='center')\n",
    "#plt.figtext(.5,.85,'(Darkest: '+str(int(max(alphas)*100))+ '%   Lightest: '+str(int(min(alphas)*100))+'%)', fontsize=20, ha='center')\n",
    "#plt.figtext(.5,.85,'(Dark = High)', fontsize=20, ha='center')\n",
    "\n",
    "# Label percentages \n",
    "plt.text(-123.5,47.7,'11%',fontsize=13) #11900\n",
    "plt.text(-123.7,47.2,'21%',fontsize=13) #11300\n",
    "plt.text(-123.8,46.5,'20%',fontsize=13) #11200\n",
    "plt.text(-122.3,46.5,'15%',fontsize=13) #11000\n",
    "plt.text(-122,48.8,'14%',fontsize=13) #10100\n",
    "plt.text(-122,48.5,'12%',fontsize=13) #10200\n",
    "plt.text(-122,48.2,'10%',fontsize=13) #11706\n",
    "plt.text(-122,47.9,'8%',fontsize=13) #11705\n",
    "plt.text(-121.75,47.6,'1%',fontsize=13) #11616\n",
    "plt.text(-121.9,47.25,'6%',fontsize=13) #11615\n",
    "plt.text(-122.2,47,'12%',fontsize=13) #11507\n",
    "plt.text(-120.2,48.5,'17%',fontsize=13) #10400\n",
    "plt.text(-120.8,47.7,'9%',fontsize=13) #10300\n",
    "plt.text(-120.5,47.1,'17%',fontsize=13) #10800\n",
    "plt.text(-120.6,46.6,'24%',fontsize=13) #10901\n",
    "plt.text(-121,46.4,'28%',fontsize=13) #10902\n",
    "plt.text(-117.5,47.72,'19%',fontsize=13) #10501\n",
    "plt.text(-117.55,47.6,'16%',fontsize=13) #10502\n",
    "plt.text(-117.2,47.6,'16%',fontsize=13) #10503\n",
    "plt.text(-117.7,47.4,'9%',fontsize=13) #10504\n",
    "plt.text(-118.4,47,'12%',fontsize=13) #10600\n",
    "plt.text(-119.5,46.3,'16%',fontsize=13) #10701\n",
    "plt.text(-119.25,46.1,'13%',fontsize=13) #10702\n",
    "plt.text(-119,46.5,'14%',fontsize=13) #10703\n",
    "plt.text(-122.7,46.85,'9%',fontsize=13) #11402\n",
    "plt.text(-122.9,47,'11%',fontsize=13) #11401\n",
    "plt.text(-122.8,45.56,'20%',fontsize=13) #11101\n",
    "plt.text(-122.7,45.7,'9%',fontsize=13) #11102\n",
    "plt.text(-122.4,45.55,'8%',fontsize=13) #11103\n",
    "plt.text(-122.5,45.75,'13%',fontsize=13) #11104\n",
    "plt.text(-122.7,47.7,'9%',fontsize=13) #11801\n",
    "plt.text(-122.75,47.5,'14%',fontsize=13) #11802\n",
    "plt.text(-122.8,47.25,'6%',fontsize=13) #11502\n",
    "\n",
    "plt.axis('off')\n",
    "plt.savefig('WA_hunger_location.png')\n",
    "plt.show()"
   ]
  },
  {
   "cell_type": "code",
   "execution_count": 40,
   "metadata": {
    "collapsed": true
   },
   "outputs": [],
   "source": [
    "seattle_pumas = [11601, 11602, 11603, 11604, 11605, 11606, 11610, 11611]"
   ]
  },
  {
   "cell_type": "code",
   "execution_count": 41,
   "metadata": {
    "collapsed": false
   },
   "outputs": [
    {
     "data": {
      "image/png": "[encoded data removed]",
      "text/plain": [
       "<matplotlib.figure.Figure at 0x1a16d9f090>"
      ]
     },
     "metadata": {},
     "output_type": "display_data"
    }
   ],
   "source": [
    "# Map shapefile for City of Seattle \n",
    "fig = plt.figure(figsize=(10,12))\n",
    "ax = fig.gca()\n",
    "alphas = []\n",
    "for _, poly in merged_shape.items():\n",
    "    if poly['properties']['puma_code'] in seattle_pumas:\n",
    "        ax.add_patch(PolygonPatch(poly['geometry'], fc='BLUE', ec='BLUE', alpha=poly['properties']['perc_snap']+0.15,zorder=2))\n",
    "        alphas.append(poly['properties']['perc_snap'])\n",
    "ax.axis('scaled')\n",
    "ax.grid(False)\n",
    "plt.figtext(.5,.86,'Perc. of Households receiving SNAP, City of Seattle', fontsize=25, fontweight='bold',ha='center')\n",
    "#plt.figtext(.5,.85,'(Darkest: '+str(int(max(alphas)*100))+ '%   Lightest: '+str(int(min(alphas)*100))+'%)', fontsize=20, ha='center')\n",
    "#plt.title('Percentage of Households receiving SNAP (dark = high)')\n",
    "\n",
    "# Label percentages\n",
    "plt.text(-122.38,47.68,'5%',fontsize=13) #11601\n",
    "plt.text(-122.30,47.68,'6%',fontsize=13) #11602\n",
    "plt.text(-122.40,47.64,'6%',fontsize=13) #11603\n",
    "plt.text(-122.31,47.61,'12%',fontsize=13) #11604\n",
    "plt.text(-122.38,47.55,'13%',fontsize=13) #11605\n",
    "plt.text(-122.34,47.75,'6%',fontsize=13) #11606\n",
    "plt.text(-122.25,47.488,'14%',fontsize=13) #11610\n",
    "plt.text(-122.33,47.48,'17%',fontsize=13) #11611\n",
    "\n",
    "plt.axis('off')\n",
    "plt.savefig('Seattle_hunger_location.png')\n",
    "plt.show()"
   ]
  },
  {
   "cell_type": "markdown",
   "metadata": {},
   "source": [
    "## Start Interesting Statistics\n",
    "Reference data dictionary to understand labels: https://www2.census.gov/programs-surveys/acs/tech_docs/pums/data_dict/PUMS_Data_Dictionary_2017.pdf"
   ]
  },
  {
   "cell_type": "markdown",
   "metadata": {},
   "source": [
    "### Baseline"
   ]
  },
  {
   "cell_type": "code",
   "execution_count": 42,
   "metadata": {
    "collapsed": false
   },
   "outputs": [
    {
     "data": {
      "text/html": [
       "<div>\n",
       "<style>\n",
       "    .dataframe thead tr:only-child th {\n",
       "        text-align: right;\n",
       "    }\n",
       "\n",
       "    .dataframe thead th {\n",
       "        text-align: left;\n",
       "    }\n",
       "\n",
       "    .dataframe tbody tr th {\n",
       "        vertical-align: top;\n",
       "    }\n",
       "</style>\n",
       "<table border=\"1\" class=\"dataframe\">\n",
       "  <thead>\n",
       "    <tr style=\"text-align: right;\">\n",
       "      <th></th>\n",
       "      <th>PUMA</th>\n",
       "      <th>receives_snap</th>\n",
       "      <th>no_snap</th>\n",
       "      <th>All</th>\n",
       "      <th>perc_snap</th>\n",
       "    </tr>\n",
       "  </thead>\n",
       "  <tbody>\n",
       "    <tr>\n",
       "      <th>52</th>\n",
       "      <td>11706</td>\n",
       "      <td>5730.0</td>\n",
       "      <td>49350.0</td>\n",
       "      <td>55080.0</td>\n",
       "      <td>0.104031</td>\n",
       "    </tr>\n",
       "    <tr>\n",
       "      <th>53</th>\n",
       "      <td>11801</td>\n",
       "      <td>4722.0</td>\n",
       "      <td>45660.0</td>\n",
       "      <td>50382.0</td>\n",
       "      <td>0.093724</td>\n",
       "    </tr>\n",
       "    <tr>\n",
       "      <th>54</th>\n",
       "      <td>11802</td>\n",
       "      <td>7900.0</td>\n",
       "      <td>46620.0</td>\n",
       "      <td>54520.0</td>\n",
       "      <td>0.144901</td>\n",
       "    </tr>\n",
       "    <tr>\n",
       "      <th>55</th>\n",
       "      <td>11900</td>\n",
       "      <td>5271.0</td>\n",
       "      <td>42650.0</td>\n",
       "      <td>47921.0</td>\n",
       "      <td>0.109994</td>\n",
       "    </tr>\n",
       "    <tr>\n",
       "      <th>56</th>\n",
       "      <td>All</td>\n",
       "      <td>343469.0</td>\n",
       "      <td>2496901.0</td>\n",
       "      <td>2840370.0</td>\n",
       "      <td>0.120924</td>\n",
       "    </tr>\n",
       "  </tbody>\n",
       "</table>\n",
       "</div>"
      ],
      "text/plain": [
       "     PUMA  receives_snap    no_snap        All  perc_snap\n",
       "52  11706         5730.0    49350.0    55080.0   0.104031\n",
       "53  11801         4722.0    45660.0    50382.0   0.093724\n",
       "54  11802         7900.0    46620.0    54520.0   0.144901\n",
       "55  11900         5271.0    42650.0    47921.0   0.109994\n",
       "56    All       343469.0  2496901.0  2840370.0   0.120924"
      ]
     },
     "execution_count": 42,
     "metadata": {},
     "output_type": "execute_result"
    }
   ],
   "source": [
    "df.tail()"
   ]
  },
  {
   "cell_type": "code",
   "execution_count": 43,
   "metadata": {
    "collapsed": true
   },
   "outputs": [],
   "source": [
    "df.to_csv(path_or_buf='SNAP_by_PUMA.csv')"
   ]
  },
  {
   "cell_type": "code",
   "execution_count": 44,
   "metadata": {
    "collapsed": false
   },
   "outputs": [
    {
     "data": {
      "text/plain": [
       "PUMA                     All\n",
       "receives_snap         343469\n",
       "no_snap           2.4969e+06\n",
       "All              2.84037e+06\n",
       "perc_snap           0.120924\n",
       "Name: 56, dtype: object"
      ]
     },
     "execution_count": 44,
     "metadata": {},
     "output_type": "execute_result"
    }
   ],
   "source": [
    "df.loc[56]\n",
    "# 12% of WA households receive SNAP"
   ]
  },
  {
   "cell_type": "markdown",
   "metadata": {},
   "source": [
    "### Household Income"
   ]
  },
  {
   "cell_type": "code",
   "execution_count": 47,
   "metadata": {
    "collapsed": false
   },
   "outputs": [
    {
     "data": {
      "image/png": "[encoded data removed]",
      "text/plain": [
       "<matplotlib.figure.Figure at 0x1a16d9fbd0>"
      ]
     },
     "metadata": {},
     "output_type": "display_data"
    }
   ],
   "source": [
    "df = pd.crosstab(pumas_hh_merge.HINCP,pumas_hh_merge.FS,pumas_hh_merge.WGTP,aggfunc=sum,margins=True)\n",
    "column_names = df.columns.values\n",
    "column_names[0] = 'receives_snap'\n",
    "column_names[1] = 'no_snap'\n",
    "df.columns = column_names\n",
    "df.reset_index(inplace=True)\n",
    "df['% of SNAP recipients'] = df.receives_snap/(df.receives_snap.values[-1])*100\n",
    "df['% of total population'] = df.All/(df.All.values[-1])*100\n",
    "df = df.drop(['receives_snap','no_snap','All'],axis=1)\n",
    "df = df[:-1]\n",
    "\n",
    "\n",
    "# Make plots\n",
    "plt.figure(figsize=(20,10))\n",
    "plt.subplot(2,1,1)\n",
    "plt.plot(df['HINCP'],df['% of SNAP recipients'],'k')\n",
    "plt.ylabel('% of Total Population',fontsize=16)\n",
    "plt.xlim((None,500000))\n",
    "plt.title('Household Income, Total Population',fontsize=20)\n",
    "plt.subplot(2,1,2)\n",
    "plt.plot(df['HINCP'],df['% of total population'],'k')\n",
    "plt.ylabel('% of SNAP Population',fontsize=16)\n",
    "plt.xlabel('Income ($)',fontsize=16)\n",
    "plt.xlim((None,500000))\n",
    "plt.title('Household Income, SNAP Population',fontsize=20)\n",
    "plt.savefig('Household_Income.png')\n",
    "plt.show()"
   ]
  },
  {
   "cell_type": "markdown",
   "metadata": {},
   "source": [
    "### Age of Household Head"
   ]
  },
  {
   "cell_type": "code",
   "execution_count": 48,
   "metadata": {
    "collapsed": false
   },
   "outputs": [
    {
     "name": "stdout",
     "output_type": "stream",
     "text": [
      "   AGEP  receives_snap  no_snap      All  % of SNAP recipients  \\\n",
      "0    16            NaN    187.0    187.0                   NaN   \n",
      "1    17           70.0      NaN     70.0              0.020380   \n",
      "2    18          155.0   1025.0   1180.0              0.045128   \n",
      "3    19         1416.0   6357.0   7773.0              0.412264   \n",
      "4    20         1394.0  12052.0  13446.0              0.405859   \n",
      "\n",
      "   % of total population  \n",
      "0               0.006584  \n",
      "1               0.002464  \n",
      "2               0.041544  \n",
      "3               0.273662  \n",
      "4               0.473389  \n"
     ]
    }
   ],
   "source": [
    "# Histograms, frequency of each age group\n",
    "df = pd.crosstab(pumas_hh_merge.AGEP,pumas_hh_merge.FS,pumas_hh_merge.WGTP,aggfunc=sum,margins=True)\n",
    "column_names = df.columns.values\n",
    "column_names[0] = 'receives_snap'\n",
    "column_names[1] = 'no_snap'\n",
    "df.columns = column_names\n",
    "df.reset_index(inplace=True)\n",
    "df['% of SNAP recipients'] = df.receives_snap/(df.receives_snap.values[-1])*100\n",
    "df['% of total population'] = df.All/(df.All.values[-1])*100\n",
    "df = df[:-1]\n",
    "df['AGEP'] = df['AGEP'].astype('int')\n",
    "print(df.head())"
   ]
  },
  {
   "cell_type": "code",
   "execution_count": 49,
   "metadata": {
    "collapsed": false
   },
   "outputs": [],
   "source": [
    "df.fillna(0,inplace=True)"
   ]
  },
  {
   "cell_type": "code",
   "execution_count": 50,
   "metadata": {
    "collapsed": false
   },
   "outputs": [
    {
     "data": {
      "image/png": "[encoded data removed]",
      "text/plain": [
       "<matplotlib.figure.Figure at 0x1a168e2050>"
      ]
     },
     "metadata": {},
     "output_type": "display_data"
    }
   ],
   "source": [
    "# Make plots\n",
    "    # Source for xticks: https://stackoverflow.com/questions/27083051/matplotlib-xticks-not-lining-up-with-histogram\n",
    "plt.figure(figsize=(20,10))\n",
    "plt.subplot(2,1,1)\n",
    "plt.hist(df.AGEP,weights=df.All,bins=np.arange(0,max(df.AGEP)+4,1)-0.5,color='blue',edgecolor='black',alpha=0.3) # 1 year\n",
    "plt.xticks(np.arange(min(df.AGEP), max(df.AGEP)+4,2))\n",
    "plt.xlim([14,100])\n",
    "plt.ylabel('# of Household Heads',fontsize=16)\n",
    "plt.title('Histogram of Age of Household Head, Total Population',fontsize=20)\n",
    "plt.hist(df.AGEP,weights=df.receives_snap,bins=np.arange(0,max(df.AGEP)+4,1)-0.5,color='red',edgecolor='black',alpha=0.3) # 1 year\n",
    "plt.xticks(np.arange(min(df.AGEP), max(df.AGEP)+4,2))\n",
    "plt.ylabel('# of Household Heads',fontsize=16)\n",
    "plt.xlabel('Age (Years)',fontsize=16)\n",
    "plt.xlim([14,100])\n",
    "plt.title('Histogram of Age of Household Head',fontsize=20)\n",
    "\n",
    "#create legend\n",
    "handles = [Rectangle((0,0),1,1,color=c,ec=\"k\",alpha=0.5) for c in ['blue','red']]\n",
    "labels= [\"Total Population\",\"SNAP population\"]\n",
    "plt.legend(handles, labels,fontsize=16)\n",
    "\n",
    "plt.savefig('outputs/Hist_Household_Head_Age.png')\n",
    "plt.show()"
   ]
  },
  {
   "cell_type": "markdown",
   "metadata": {},
   "source": [
    "### Parameterized tables"
   ]
  },
  {
   "cell_type": "markdown",
   "metadata": {},
   "source": [
    "**For categorical variables, SNAP v. non-SNAP** "
   ]
  },
  {
   "cell_type": "code",
   "execution_count": 51,
   "metadata": {
    "collapsed": true
   },
   "outputs": [],
   "source": [
    "def build_table_cat_sns(pumas_table,var,weight):\n",
    "    df = pd.crosstab(pumas_table[var],pumas_table.FS,pumas_table[weight],aggfunc=sum,margins=True)\n",
    "    column_names = df.columns.values\n",
    "    column_names[0] = 'receives_snap'\n",
    "    column_names[1] = 'no_snap'\n",
    "    df.columns = column_names\n",
    "    df.reset_index(inplace=True)\n",
    "    df['% Receiving SNAP'] = df.receives_snap/df.All*100\n",
    "    df['% Not Receiving SNAP'] = df.no_snap/df.All*100\n",
    "    df['Total Population'] = df.All/df.All*100\n",
    "    df = df.drop(['receives_snap','no_snap','All'],axis=1)\n",
    "    for index, row in df.iterrows():\n",
    "        df.at[index, '% Receiving SNAP'] = \"%.2f\" %row['% Receiving SNAP']\n",
    "        df.at[index, '% Not Receiving SNAP'] = \"%.2f\" %row['% Not Receiving SNAP']\n",
    "        df.at[index, 'Total Population'] = \"%.2f\" %row['Total Population']\n",
    "    print(df)\n",
    "    return df "
   ]
  },
  {
   "cell_type": "markdown",
   "metadata": {},
   "source": [
    "**For categorical variables, SNAP v. Total Population** "
   ]
  },
  {
   "cell_type": "code",
   "execution_count": 52,
   "metadata": {
    "collapsed": false
   },
   "outputs": [],
   "source": [
    "def build_table_cat_stot(pumas_table,var,weight):\n",
    "    df = pd.crosstab(pumas_table[var],pumas_table.FS,pumas_table.WGTP,aggfunc=sum,margins=True)\n",
    "    column_names = df.columns.values\n",
    "    column_names[0] = 'receives_snap'\n",
    "    column_names[1] = 'no_snap'\n",
    "    df.columns = column_names\n",
    "    df.reset_index(inplace=True)\n",
    "    #print(df)\n",
    "    df['% of SNAP recipients'] = df.receives_snap/(df.receives_snap.values[-1])*100\n",
    "    df['% of total population'] = df.All/(df.All.values[-1])*100\n",
    "    df = df.drop(['receives_snap','no_snap','All'],axis=1)\n",
    "    for index, row in df.iterrows():\n",
    "        df.at[index, '% of SNAP recipients'] = \"%.2f\" %row['% of SNAP recipients']\n",
    "        df.at[index, '% of total population'] = \"%.2f\" %row['% of total population']\n",
    "    print(df)\n",
    "    return(df)"
   ]
  },
  {
   "cell_type": "markdown",
   "metadata": {},
   "source": [
    "In general, SNAP v. Total Population is more intuitive than SNAP v. non-SNAP; thus it is used more often below (e.g. for generating plots and graphs) "
   ]
  },
  {
   "cell_type": "markdown",
   "metadata": {},
   "source": [
    "### Language spoken at home"
   ]
  },
  {
   "cell_type": "code",
   "execution_count": 55,
   "metadata": {
    "collapsed": false
   },
   "outputs": [
    {
     "name": "stdout",
     "output_type": "stream",
     "text": [
      "   HHL  % Receiving SNAP  % Not Receiving SNAP  Total Population\n",
      "0    1             11.09                 88.91             100.0\n",
      "1    2             20.81                 79.19             100.0\n",
      "2    3             11.31                 88.69             100.0\n",
      "3    4             11.47                 88.53             100.0\n",
      "4    5             30.50                 69.50             100.0\n",
      "5  All             12.09                 87.91             100.0\n"
     ]
    }
   ],
   "source": [
    "df_hhl_sns = build_table_cat_sns(pumas_hh_merge,'HHL','WGTP')"
   ]
  },
  {
   "cell_type": "code",
   "execution_count": 56,
   "metadata": {
    "collapsed": false
   },
   "outputs": [
    {
     "name": "stdout",
     "output_type": "stream",
     "text": [
      "   HHL  % of SNAP recipients  % of total population\n",
      "0    1                 73.16                  79.76\n",
      "1    2                 13.22                   7.68\n",
      "2    3                  4.52                   4.83\n",
      "3    4                  6.27                   6.60\n",
      "4    5                  2.83                   1.12\n",
      "5  All                100.00                 100.00\n"
     ]
    }
   ],
   "source": [
    "df_hhl_stot = build_table_cat_stot(pumas_hh_merge,'HHL','WGTP')"
   ]
  },
  {
   "cell_type": "markdown",
   "metadata": {},
   "source": [
    "### Number of persons in HH"
   ]
  },
  {
   "cell_type": "code",
   "execution_count": 57,
   "metadata": {
    "collapsed": false,
    "scrolled": false
   },
   "outputs": [
    {
     "name": "stdout",
     "output_type": "stream",
     "text": [
      "     NP  % Receiving SNAP  % Not Receiving SNAP  Total Population\n",
      "0     1             11.65                 88.35             100.0\n",
      "1     2              7.67                 92.33             100.0\n",
      "2     3             14.36                 85.64             100.0\n",
      "3     4             12.96                 87.04             100.0\n",
      "4     5             19.53                 80.47             100.0\n",
      "5     6             33.31                 66.69             100.0\n",
      "6     7             29.80                 70.20             100.0\n",
      "7     8             41.16                 58.84             100.0\n",
      "8     9             50.71                 49.29             100.0\n",
      "9    10             32.01                 67.99             100.0\n",
      "10   11             62.65                 37.35             100.0\n",
      "11   12             19.97                 80.03             100.0\n",
      "12   13             47.75                 52.25             100.0\n",
      "13   14            100.00                   NaN             100.0\n",
      "14  All             12.09                 87.91             100.0\n"
     ]
    }
   ],
   "source": [
    "df_np_sns = build_table_cat_sns(pumas_hh_merge,'NP','WGTP')"
   ]
  },
  {
   "cell_type": "code",
   "execution_count": 58,
   "metadata": {
    "collapsed": false
   },
   "outputs": [
    {
     "name": "stdout",
     "output_type": "stream",
     "text": [
      "     NP  % of SNAP recipients  % of total population\n",
      "0     1                 25.42                  26.40\n",
      "1     2                 22.82                  35.99\n",
      "2     3                 17.89                  15.07\n",
      "3     4                 14.05                  13.11\n",
      "4     5                  8.96                   5.55\n",
      "5     6                  6.48                   2.35\n",
      "6     7                  2.32                   0.94\n",
      "7     8                  1.18                   0.35\n",
      "8     9                  0.45                   0.11\n",
      "9    10                  0.20                   0.08\n",
      "10   11                  0.15                   0.03\n",
      "11   12                  0.03                   0.02\n",
      "12   13                  0.03                   0.01\n",
      "13   14                  0.01                   0.00\n",
      "14  All                100.00                 100.00\n"
     ]
    }
   ],
   "source": [
    "df_np_stot = build_table_cat_stot(pumas_hh_merge,'NP','WGTP')"
   ]
  },
  {
   "cell_type": "code",
   "execution_count": 59,
   "metadata": {
    "collapsed": false
   },
   "outputs": [],
   "source": [
    "df_np_stot.iloc[2]=['3-4',df_np_stot.iloc[2,1]+df_np_stot.iloc[3,1],df_np_stot.iloc[2,2]+df_np_stot.iloc[3,2]]"
   ]
  },
  {
   "cell_type": "code",
   "execution_count": 60,
   "metadata": {
    "collapsed": true
   },
   "outputs": [],
   "source": [
    "df_np_stot.fillna(0,inplace=True)"
   ]
  },
  {
   "cell_type": "code",
   "execution_count": 61,
   "metadata": {
    "collapsed": false
   },
   "outputs": [],
   "source": [
    "df_np_stot.iloc[3]=['5-8',df_np_stot.iloc[4,1]+df_np_stot.iloc[5,1]+df_np_stot.iloc[6,1]+df_np_stot.iloc[7,1],df_np_stot.iloc[4,2]+df_np_stot.iloc[5,2]+df_np_stot.iloc[6,2]+df_np_stot.iloc[7,2]]"
   ]
  },
  {
   "cell_type": "code",
   "execution_count": 62,
   "metadata": {
    "collapsed": true
   },
   "outputs": [],
   "source": [
    "df_np_stot.iloc[4]=['9-14',df_np_stot.iloc[8,1]+df_np_stot.iloc[9,1]+df_np_stot.iloc[10,1]+df_np_stot.iloc[11,1]+df_np_stot.iloc[12,1]+df_np_stot.iloc[13,1],df_np_stot.iloc[8,2]+df_np_stot.iloc[9,2]+df_np_stot.iloc[10,2]+df_np_stot.iloc[11,2]+df_np_stot.iloc[12,2]+df_np_stot.iloc[13,2]]"
   ]
  },
  {
   "cell_type": "code",
   "execution_count": 63,
   "metadata": {
    "collapsed": false
   },
   "outputs": [],
   "source": [
    "df_np_stot.drop([5,6,7,8,9,10,11,12,13,14],inplace=True)"
   ]
  },
  {
   "cell_type": "code",
   "execution_count": 64,
   "metadata": {
    "collapsed": false
   },
   "outputs": [
    {
     "data": {
      "text/html": [
       "<div>\n",
       "<style>\n",
       "    .dataframe thead tr:only-child th {\n",
       "        text-align: right;\n",
       "    }\n",
       "\n",
       "    .dataframe thead th {\n",
       "        text-align: left;\n",
       "    }\n",
       "\n",
       "    .dataframe tbody tr th {\n",
       "        vertical-align: top;\n",
       "    }\n",
       "</style>\n",
       "<table border=\"1\" class=\"dataframe\">\n",
       "  <thead>\n",
       "    <tr style=\"text-align: right;\">\n",
       "      <th></th>\n",
       "      <th>NP</th>\n",
       "      <th>% of SNAP recipients</th>\n",
       "      <th>% of total population</th>\n",
       "    </tr>\n",
       "  </thead>\n",
       "  <tbody>\n",
       "    <tr>\n",
       "      <th>0</th>\n",
       "      <td>1</td>\n",
       "      <td>25.42</td>\n",
       "      <td>26.40</td>\n",
       "    </tr>\n",
       "    <tr>\n",
       "      <th>1</th>\n",
       "      <td>2</td>\n",
       "      <td>22.82</td>\n",
       "      <td>35.99</td>\n",
       "    </tr>\n",
       "    <tr>\n",
       "      <th>2</th>\n",
       "      <td>3-4</td>\n",
       "      <td>31.94</td>\n",
       "      <td>28.18</td>\n",
       "    </tr>\n",
       "    <tr>\n",
       "      <th>3</th>\n",
       "      <td>5-8</td>\n",
       "      <td>18.94</td>\n",
       "      <td>9.19</td>\n",
       "    </tr>\n",
       "    <tr>\n",
       "      <th>4</th>\n",
       "      <td>9-14</td>\n",
       "      <td>0.87</td>\n",
       "      <td>0.25</td>\n",
       "    </tr>\n",
       "  </tbody>\n",
       "</table>\n",
       "</div>"
      ],
      "text/plain": [
       "     NP  % of SNAP recipients  % of total population\n",
       "0     1                 25.42                  26.40\n",
       "1     2                 22.82                  35.99\n",
       "2   3-4                 31.94                  28.18\n",
       "3   5-8                 18.94                   9.19\n",
       "4  9-14                  0.87                   0.25"
      ]
     },
     "execution_count": 64,
     "metadata": {},
     "output_type": "execute_result"
    }
   ],
   "source": [
    "df_np_stot"
   ]
  },
  {
   "cell_type": "markdown",
   "metadata": {},
   "source": [
    "### Household Type"
   ]
  },
  {
   "cell_type": "code",
   "execution_count": 65,
   "metadata": {
    "collapsed": false,
    "scrolled": false
   },
   "outputs": [
    {
     "name": "stdout",
     "output_type": "stream",
     "text": [
      "   HHT  % Receiving SNAP  % Not Receiving SNAP  Total Population\n",
      "0    1              6.22                 93.78             100.0\n",
      "1    2             24.04                 75.96             100.0\n",
      "2    3             35.43                 64.57             100.0\n",
      "3    4             10.92                 89.08             100.0\n",
      "4    5             13.13                 86.87             100.0\n",
      "5    6             12.29                 87.71             100.0\n",
      "6    7             15.37                 84.63             100.0\n",
      "7  All             12.09                 87.91             100.0\n"
     ]
    }
   ],
   "source": [
    "df_hht_sns = build_table_cat_sns(pumas_hh_merge,'HHT','WGTP')"
   ]
  },
  {
   "cell_type": "code",
   "execution_count": 66,
   "metadata": {
    "collapsed": false
   },
   "outputs": [
    {
     "name": "stdout",
     "output_type": "stream",
     "text": [
      "   HHT  % of SNAP recipients  % of total population\n",
      "0    1                 25.73                  50.03\n",
      "1    2                  9.55                   4.81\n",
      "2    3                 28.86                   9.85\n",
      "3    4                 11.19                  12.39\n",
      "4    5                  5.33                   4.90\n",
      "5    6                 14.24                  14.01\n",
      "6    7                  5.10                   4.02\n",
      "7  All                100.00                 100.00\n"
     ]
    }
   ],
   "source": [
    "df_hht_stot = build_table_cat_stot(pumas_hh_merge,'HHT','WGTP')"
   ]
  },
  {
   "cell_type": "markdown",
   "metadata": {},
   "source": [
    "### Family Type and Employment Status"
   ]
  },
  {
   "cell_type": "code",
   "execution_count": 67,
   "metadata": {
    "collapsed": false
   },
   "outputs": [
    {
     "name": "stdout",
     "output_type": "stream",
     "text": [
      "   FES  % Receiving SNAP  % Not Receiving SNAP  Total Population\n",
      "0    1              4.44                 95.56             100.0\n",
      "1    2              9.65                 90.35             100.0\n",
      "2    3              8.34                 91.66             100.0\n",
      "3    4              6.37                 93.63             100.0\n",
      "4    5             20.21                 79.79             100.0\n",
      "5    6             37.49                 62.51             100.0\n",
      "6    7             31.56                 68.44             100.0\n",
      "7    8             45.73                 54.27             100.0\n",
      "8  All             12.08                 87.92             100.0\n"
     ]
    }
   ],
   "source": [
    "df_fes_sns = build_table_cat_sns(pumas_hh_merge,'FES','WGTP')"
   ]
  },
  {
   "cell_type": "code",
   "execution_count": 68,
   "metadata": {
    "collapsed": false
   },
   "outputs": [
    {
     "name": "stdout",
     "output_type": "stream",
     "text": [
      "   FES  % of SNAP recipients  % of total population\n",
      "0    1                 14.59                  39.72\n",
      "1    2                 13.88                  17.38\n",
      "2    3                  4.01                   5.81\n",
      "3    4                  7.48                  14.20\n",
      "4    5                  9.76                   5.84\n",
      "5    6                  5.17                   1.67\n",
      "6    7                 29.20                  11.18\n",
      "7    8                 15.90                   4.20\n",
      "8  All                100.00                 100.00\n"
     ]
    }
   ],
   "source": [
    "df_fes_stot = build_table_cat_stot(pumas_hh_merge,'FES','WGTP')"
   ]
  },
  {
   "cell_type": "code",
   "execution_count": 69,
   "metadata": {
    "collapsed": false
   },
   "outputs": [
    {
     "data": {
      "text/html": [
       "<div>\n",
       "<style>\n",
       "    .dataframe thead tr:only-child th {\n",
       "        text-align: right;\n",
       "    }\n",
       "\n",
       "    .dataframe thead th {\n",
       "        text-align: left;\n",
       "    }\n",
       "\n",
       "    .dataframe tbody tr th {\n",
       "        vertical-align: top;\n",
       "    }\n",
       "</style>\n",
       "<table border=\"1\" class=\"dataframe\">\n",
       "  <thead>\n",
       "    <tr style=\"text-align: right;\">\n",
       "      <th></th>\n",
       "      <th>FES</th>\n",
       "      <th>% of SNAP recipients</th>\n",
       "      <th>% of total population</th>\n",
       "    </tr>\n",
       "  </thead>\n",
       "  <tbody>\n",
       "    <tr>\n",
       "      <th>0</th>\n",
       "      <td>Married, 1+ employed</td>\n",
       "      <td>32.48</td>\n",
       "      <td>62.91</td>\n",
       "    </tr>\n",
       "    <tr>\n",
       "      <th>3</th>\n",
       "      <td>Married, both unemployed</td>\n",
       "      <td>7.48</td>\n",
       "      <td>14.20</td>\n",
       "    </tr>\n",
       "    <tr>\n",
       "      <th>4</th>\n",
       "      <td>Single, employed</td>\n",
       "      <td>38.96</td>\n",
       "      <td>17.02</td>\n",
       "    </tr>\n",
       "    <tr>\n",
       "      <th>5</th>\n",
       "      <td>Single, unemployed</td>\n",
       "      <td>21.07</td>\n",
       "      <td>5.87</td>\n",
       "    </tr>\n",
       "  </tbody>\n",
       "</table>\n",
       "</div>"
      ],
      "text/plain": [
       "                        FES  % of SNAP recipients  % of total population\n",
       "0      Married, 1+ employed                 32.48                  62.91\n",
       "3  Married, both unemployed                  7.48                  14.20\n",
       "4          Single, employed                 38.96                  17.02\n",
       "5        Single, unemployed                 21.07                   5.87"
      ]
     },
     "execution_count": 69,
     "metadata": {},
     "output_type": "execute_result"
    }
   ],
   "source": [
    "df_fes_stot.iloc[0]=['Married, 1+ employed',df_fes_stot.iloc[0,1]+df_fes_stot.iloc[1,1]+df_fes_stot.iloc[2,1],df_fes_stot.iloc[0,2]+df_fes_stot.iloc[1,2]+df_fes_stot.iloc[2,2]]\n",
    "df_fes_stot.iloc[3,0]='Married, both unemployed'\n",
    "df_fes_stot.iloc[4]=['Single, employed',df_fes_stot.iloc[4,1]+df_fes_stot.iloc[6,1],df_fes_stot.iloc[4,2]+df_fes_stot.iloc[6,2]]\n",
    "df_fes_stot.iloc[5]=['Single, unemployed',df_fes_stot.iloc[5,1]+df_fes_stot.iloc[7,1],df_fes_stot.iloc[5,2]+df_fes_stot.iloc[7,2]]\n",
    "df_fes_stot.drop([1,2,6,7,8],inplace=True)\n",
    "df_fes_stot"
   ]
  },
  {
   "cell_type": "markdown",
   "metadata": {},
   "source": [
    "### Presence and Age of Children"
   ]
  },
  {
   "cell_type": "code",
   "execution_count": 70,
   "metadata": {
    "collapsed": false
   },
   "outputs": [
    {
     "name": "stdout",
     "output_type": "stream",
     "text": [
      "  HUPAC  % Receiving SNAP  % Not Receiving SNAP  Total Population\n",
      "0     1             17.56                 82.44             100.0\n",
      "1     2             14.01                 85.99             100.0\n",
      "2     3             26.28                 73.72             100.0\n",
      "3     4              9.70                 90.30             100.0\n",
      "4   All             12.09                 87.91             100.0\n"
     ]
    }
   ],
   "source": [
    "df_hupac_sns = build_table_cat_sns(pumas_hh_merge,'HUPAC','WGTP')"
   ]
  },
  {
   "cell_type": "code",
   "execution_count": 71,
   "metadata": {
    "collapsed": false
   },
   "outputs": [
    {
     "name": "stdout",
     "output_type": "stream",
     "text": [
      "  HUPAC  % of SNAP recipients  % of total population\n",
      "0     1                 10.95                   7.54\n",
      "1     2                 18.75                  16.19\n",
      "2     3                 14.42                   6.64\n",
      "3     4                 55.87                  69.63\n",
      "4   All                100.00                 100.00\n"
     ]
    }
   ],
   "source": [
    "df_hupac_stot = build_table_cat_stot(pumas_hh_merge,'HUPAC','WGTP')"
   ]
  },
  {
   "cell_type": "code",
   "execution_count": 72,
   "metadata": {
    "collapsed": false
   },
   "outputs": [],
   "source": [
    "df_hupac_stot.iloc[3,0] = 'No own children present'"
   ]
  },
  {
   "cell_type": "code",
   "execution_count": 73,
   "metadata": {
    "collapsed": true
   },
   "outputs": [],
   "source": [
    "df_hupac_stot.iloc[4] = ['Own children present',df_hupac_stot.iloc[0,1]+df_hupac_stot.iloc[1,1]+df_hupac_stot.iloc[2,1],df_hupac_stot.iloc[0,2]+df_hupac_stot.iloc[1,2]+df_hupac_stot.iloc[2,2]]"
   ]
  },
  {
   "cell_type": "code",
   "execution_count": 74,
   "metadata": {
    "collapsed": false
   },
   "outputs": [],
   "source": [
    "df_hupac_stot.drop([0,1,2],inplace=True)"
   ]
  },
  {
   "cell_type": "code",
   "execution_count": 75,
   "metadata": {
    "collapsed": false
   },
   "outputs": [],
   "source": [
    "df_hupac_stot.reset_index(drop=True,inplace=True)"
   ]
  },
  {
   "cell_type": "code",
   "execution_count": 76,
   "metadata": {
    "collapsed": false
   },
   "outputs": [
    {
     "data": {
      "text/html": [
       "<div>\n",
       "<style>\n",
       "    .dataframe thead tr:only-child th {\n",
       "        text-align: right;\n",
       "    }\n",
       "\n",
       "    .dataframe thead th {\n",
       "        text-align: left;\n",
       "    }\n",
       "\n",
       "    .dataframe tbody tr th {\n",
       "        vertical-align: top;\n",
       "    }\n",
       "</style>\n",
       "<table border=\"1\" class=\"dataframe\">\n",
       "  <thead>\n",
       "    <tr style=\"text-align: right;\">\n",
       "      <th></th>\n",
       "      <th>HUPAC</th>\n",
       "      <th>% of SNAP recipients</th>\n",
       "      <th>% of total population</th>\n",
       "    </tr>\n",
       "  </thead>\n",
       "  <tbody>\n",
       "    <tr>\n",
       "      <th>0</th>\n",
       "      <td>No own children present</td>\n",
       "      <td>55.87</td>\n",
       "      <td>69.63</td>\n",
       "    </tr>\n",
       "    <tr>\n",
       "      <th>1</th>\n",
       "      <td>Own children present</td>\n",
       "      <td>44.12</td>\n",
       "      <td>30.37</td>\n",
       "    </tr>\n",
       "  </tbody>\n",
       "</table>\n",
       "</div>"
      ],
      "text/plain": [
       "                     HUPAC  % of SNAP recipients  % of total population\n",
       "0  No own children present                 55.87                  69.63\n",
       "1     Own children present                 44.12                  30.37"
      ]
     },
     "execution_count": 76,
     "metadata": {},
     "output_type": "execute_result"
    }
   ],
   "source": [
    "df_hupac_stot"
   ]
  },
  {
   "cell_type": "markdown",
   "metadata": {},
   "source": [
    "### Household Head's Ability to Speak English"
   ]
  },
  {
   "cell_type": "code",
   "execution_count": 77,
   "metadata": {
    "collapsed": false,
    "scrolled": false
   },
   "outputs": [
    {
     "name": "stdout",
     "output_type": "stream",
     "text": [
      "   ENG  % Receiving SNAP  % Not Receiving SNAP  Total Population\n",
      "0    1             11.85                 88.15             100.0\n",
      "1    2             16.89                 83.11             100.0\n",
      "2    3             32.60                 67.40             100.0\n",
      "3    4             37.56                 62.44             100.0\n",
      "4  All             16.83                 83.17             100.0\n"
     ]
    }
   ],
   "source": [
    "df_eng_sns = build_table_cat_sns(pumas_hh_merge,'ENG','WGTP')"
   ]
  },
  {
   "cell_type": "code",
   "execution_count": 78,
   "metadata": {
    "collapsed": false
   },
   "outputs": [
    {
     "name": "stdout",
     "output_type": "stream",
     "text": [
      "   ENG  % of SNAP recipients  % of total population\n",
      "0    1                 42.93                  60.96\n",
      "1    2                 21.32                  21.24\n",
      "2    3                 26.31                  13.58\n",
      "3    4                  9.44                   4.23\n",
      "4  All                100.00                 100.00\n"
     ]
    }
   ],
   "source": [
    "df_eng_stot = build_table_cat_stot(pumas_hh_merge,'ENG','WGTP')"
   ]
  },
  {
   "cell_type": "markdown",
   "metadata": {},
   "source": [
    "### Household Head's Military Service Background"
   ]
  },
  {
   "cell_type": "code",
   "execution_count": 79,
   "metadata": {
    "collapsed": false
   },
   "outputs": [
    {
     "name": "stdout",
     "output_type": "stream",
     "text": [
      "   MIL  % Receiving SNAP  % Not Receiving SNAP  Total Population\n",
      "0    1              2.44                 97.56             100.0\n",
      "1    2              8.66                 91.34             100.0\n",
      "2    3              9.56                 90.44             100.0\n",
      "3    4             12.70                 87.30             100.0\n",
      "4  All             12.09                 87.91             100.0\n"
     ]
    }
   ],
   "source": [
    "df_mil_sns = build_table_cat_sns(pumas_hh_merge,'MIL','WGTP')"
   ]
  },
  {
   "cell_type": "code",
   "execution_count": 80,
   "metadata": {
    "collapsed": false
   },
   "outputs": [
    {
     "name": "stdout",
     "output_type": "stream",
     "text": [
      "   MIL  % of SNAP recipients  % of total population\n",
      "0    1                  0.15                   0.75\n",
      "1    2                  8.58                  11.98\n",
      "2    3                  1.20                   1.52\n",
      "3    4                 90.06                  85.74\n",
      "4  All                100.00                 100.00\n"
     ]
    }
   ],
   "source": [
    "df_mil_stot = build_table_cat_stot(pumas_hh_merge,'MIL','WGTP')"
   ]
  },
  {
   "cell_type": "markdown",
   "metadata": {},
   "source": [
    "### Household Head's Sex"
   ]
  },
  {
   "cell_type": "code",
   "execution_count": 84,
   "metadata": {
    "collapsed": false
   },
   "outputs": [
    {
     "name": "stdout",
     "output_type": "stream",
     "text": [
      "   SEX  % Receiving SNAP  % Not Receiving SNAP  Total Population\n",
      "0    1              9.42                 90.58             100.0\n",
      "1    2             14.98                 85.02             100.0\n",
      "2  All             12.09                 87.91             100.0\n"
     ]
    }
   ],
   "source": [
    "df_sex_sns = build_table_cat_sns(pumas_hh_merge,'SEX','WGTP')"
   ]
  },
  {
   "cell_type": "code",
   "execution_count": 85,
   "metadata": {
    "collapsed": false
   },
   "outputs": [
    {
     "name": "stdout",
     "output_type": "stream",
     "text": [
      "   SEX  % of SNAP recipients  % of total population\n",
      "0    1                 40.44                  51.93\n",
      "1    2                 59.56                  48.07\n",
      "2  All                100.00                 100.00\n"
     ]
    }
   ],
   "source": [
    "df_sex_stot = build_table_cat_stot(pumas_hh_merge,'SEX','WGTP')"
   ]
  },
  {
   "cell_type": "code",
   "execution_count": 86,
   "metadata": {
    "collapsed": false
   },
   "outputs": [],
   "source": [
    "df_sex_stot.drop(2,inplace=True)"
   ]
  },
  {
   "cell_type": "code",
   "execution_count": 87,
   "metadata": {
    "collapsed": false
   },
   "outputs": [
    {
     "data": {
      "image/png": "[encoded data removed]",
      "text/plain": [
       "<matplotlib.figure.Figure at 0x1a17593650>"
      ]
     },
     "metadata": {},
     "output_type": "display_data"
    }
   ],
   "source": [
    "ind = np.arange(len(df_sex_stot))\n",
    "width = 0.35 \n",
    "fig, ax = plt.subplots()\n",
    "rects1 = ax.bar(ind, df_sex_stot['% of total population'], width, color='b',alpha=0.3)\n",
    "rects2 = ax.bar(ind + width, df_sex_stot['% of SNAP recipients'], width, color='r',alpha=0.3)\n",
    "ax.set_ylabel('Percent (%) of population',fontsize=14)\n",
    "#ax.set_title('Scores by group and gender')\n",
    "ax.set_xticks(ind + width / 2)\n",
    "ax.set_xticklabels(('Men', 'Women'),fontsize=14)\n",
    "ax.legend((rects1[0], rects2[0]), ('Total Population', 'SNAP Population'),fontsize=14)\n",
    "def autolabel(rects):\n",
    "    for rect in rects:\n",
    "        height = rect.get_height()\n",
    "        ax.text(rect.get_x() + rect.get_width()/2., height+1.05,\n",
    "                '%s' %str(height),\n",
    "                ha='center', va='bottom',fontsize=12,fontweight='bold')\n",
    "autolabel(rects1)\n",
    "autolabel(rects2)\n",
    "plt.grid('on')\n",
    "plt.savefig('outputs/Bar_Household_Head_Sex.png')\n",
    "plt.show()"
   ]
  },
  {
   "cell_type": "markdown",
   "metadata": {},
   "source": [
    "### Household Head's Health Insurance Coverage"
   ]
  },
  {
   "cell_type": "code",
   "execution_count": 88,
   "metadata": {
    "collapsed": false
   },
   "outputs": [
    {
     "name": "stdout",
     "output_type": "stream",
     "text": [
      "  HICOV  % Receiving SNAP  % Not Receiving SNAP  Total Population\n",
      "0     1             11.68                 88.32             100.0\n",
      "1     2             18.87                 81.13             100.0\n",
      "2   All             12.09                 87.91             100.0\n"
     ]
    }
   ],
   "source": [
    "df_hicov_sns = build_table_cat_sns(pumas_hh_merge,'HICOV','WGTP')"
   ]
  },
  {
   "cell_type": "code",
   "execution_count": 89,
   "metadata": {
    "collapsed": false
   },
   "outputs": [
    {
     "name": "stdout",
     "output_type": "stream",
     "text": [
      "  HICOV  % of SNAP recipients  % of total population\n",
      "0     1                 91.12                  94.31\n",
      "1     2                  8.88                   5.69\n",
      "2   All                100.00                 100.00\n"
     ]
    }
   ],
   "source": [
    "df_hicov_stot = build_table_cat_stot(pumas_hh_merge,'HICOV','WGTP')"
   ]
  },
  {
   "cell_type": "markdown",
   "metadata": {},
   "source": [
    "### Household Head's Nativity"
   ]
  },
  {
   "cell_type": "code",
   "execution_count": 90,
   "metadata": {
    "collapsed": false
   },
   "outputs": [
    {
     "name": "stdout",
     "output_type": "stream",
     "text": [
      "  NATIVITY  % Receiving SNAP  % Not Receiving SNAP  Total Population\n",
      "0        1             11.47                 88.53             100.0\n",
      "1        2             15.45                 84.55             100.0\n",
      "2      All             12.09                 87.91             100.0\n"
     ]
    }
   ],
   "source": [
    "df_nat_sns = build_table_cat_sns(pumas_hh_merge,'NATIVITY','WGTP')"
   ]
  },
  {
   "cell_type": "code",
   "execution_count": 91,
   "metadata": {
    "collapsed": false
   },
   "outputs": [
    {
     "name": "stdout",
     "output_type": "stream",
     "text": [
      "  NATIVITY  % of SNAP recipients  % of total population\n",
      "0        1                 79.95                   84.3\n",
      "1        2                 20.05                   15.7\n",
      "2      All                100.00                  100.0\n"
     ]
    }
   ],
   "source": [
    "df_nat_stot = build_table_cat_stot(pumas_hh_merge,'NATIVITY','WGTP')"
   ]
  },
  {
   "cell_type": "code",
   "execution_count": 92,
   "metadata": {
    "collapsed": false
   },
   "outputs": [
    {
     "data": {
      "image/png": "[encoded data removed]",
      "text/plain": [
       "<matplotlib.figure.Figure at 0x1a16cd4c10>"
      ]
     },
     "metadata": {},
     "output_type": "display_data"
    }
   ],
   "source": [
    "df_nat_stot.drop(2,inplace=True)\n",
    "ind = np.arange(len(df_nat_stot))\n",
    "width = 0.35 \n",
    "fig, ax = plt.subplots()\n",
    "rects1 = ax.bar(ind, df_nat_stot['% of total population'], width, color='b',alpha=0.3)\n",
    "rects2 = ax.bar(ind + width, df_nat_stot['% of SNAP recipients'], width, color='r',alpha=0.3)\n",
    "ax.set_ylabel('Percent (%) of population',fontsize=14)\n",
    "#ax.set_title('Scores by group and gender')\n",
    "ax.set_xticks(ind + width / 2)\n",
    "ax.set_xticklabels(('Native', 'Foreign born'),fontsize=14)\n",
    "ax.legend((rects1[0], rects2[0]), ('Total Population', 'SNAP Population'),fontsize=14)\n",
    "def autolabel(rects):\n",
    "    for rect in rects:\n",
    "        height = rect.get_height()\n",
    "        ax.text(rect.get_x() + rect.get_width()/2., height+1.05,\n",
    "                '%s' %str(height),\n",
    "                ha='center', va='bottom',fontsize=12,fontweight='bold')\n",
    "autolabel(rects1)\n",
    "autolabel(rects2)\n",
    "plt.grid('on')\n",
    "plt.savefig('outputs/Bar_Household_Head_Nativity.png')\n",
    "plt.show()"
   ]
  },
  {
   "cell_type": "markdown",
   "metadata": {},
   "source": [
    "### Household Head's Race"
   ]
  },
  {
   "cell_type": "code",
   "execution_count": 93,
   "metadata": {
    "collapsed": false
   },
   "outputs": [
    {
     "name": "stdout",
     "output_type": "stream",
     "text": [
      "  RAC1P  % Receiving SNAP  % Not Receiving SNAP  Total Population\n",
      "0     1             10.71                 89.29             100.0\n",
      "1     2             28.41                 71.59             100.0\n",
      "2     3             28.89                 71.11             100.0\n",
      "3     4             14.12                 85.88             100.0\n",
      "4     5             41.91                 58.09             100.0\n",
      "5     6              8.85                 91.15             100.0\n",
      "6     7             23.90                 76.10             100.0\n",
      "7     8             21.41                 78.59             100.0\n",
      "8     9             18.93                 81.07             100.0\n",
      "9   All             12.09                 87.91             100.0\n"
     ]
    }
   ],
   "source": [
    "df_race_sns = build_table_cat_sns(pumas_hh_merge,'RAC1P','WGTP')"
   ]
  },
  {
   "cell_type": "code",
   "execution_count": 94,
   "metadata": {
    "collapsed": false
   },
   "outputs": [
    {
     "name": "stdout",
     "output_type": "stream",
     "text": [
      "  RAC1P  % of SNAP recipients  % of total population\n",
      "0     1                 71.28                  80.45\n",
      "1     2                  8.34                   3.55\n",
      "2     3                  2.07                   0.87\n",
      "3     4                  0.05                   0.05\n",
      "4     5                  0.32                   0.09\n",
      "5     6                  5.63                   7.69\n",
      "6     7                  0.89                   0.45\n",
      "7     8                  5.79                   3.27\n",
      "8     9                  5.62                   3.59\n",
      "9   All                100.00                 100.00\n"
     ]
    }
   ],
   "source": [
    "df_race_stot = build_table_cat_stot(pumas_hh_merge,'RAC1P','WGTP')"
   ]
  },
  {
   "cell_type": "markdown",
   "metadata": {},
   "source": [
    "### Household Head's Means of Transportation to Work"
   ]
  },
  {
   "cell_type": "code",
   "execution_count": 95,
   "metadata": {
    "collapsed": false
   },
   "outputs": [
    {
     "name": "stdout",
     "output_type": "stream",
     "text": [
      "   JWTR  % Receiving SNAP  % Not Receiving SNAP  Total Population\n",
      "0     1              8.86                 91.14             100.0\n",
      "1     2             10.96                 89.04             100.0\n",
      "2     3             20.32                 79.68             100.0\n",
      "3     4             10.69                 89.31             100.0\n",
      "4     5             11.72                 88.28             100.0\n",
      "5     6              7.58                 92.42             100.0\n",
      "6     7             13.35                 86.65             100.0\n",
      "7     8              2.63                 97.37             100.0\n",
      "8     9              5.60                 94.40             100.0\n",
      "9    10              9.88                 90.12             100.0\n",
      "10   11              5.74                 94.26             100.0\n",
      "11   12              5.91                 94.09             100.0\n",
      "12  All              8.76                 91.24             100.0\n"
     ]
    }
   ],
   "source": [
    "df_jwtr_sns = build_table_cat_sns(pumas_hh_merge,'JWTR','WGTP') "
   ]
  },
  {
   "cell_type": "code",
   "execution_count": 96,
   "metadata": {
    "collapsed": false
   },
   "outputs": [
    {
     "name": "stdout",
     "output_type": "stream",
     "text": [
      "   JWTR  % of SNAP recipients  % of total population\n",
      "0     1                 82.09                  81.21\n",
      "1     2                  7.20                   5.76\n",
      "2     3                  0.18                   0.08\n",
      "3     4                  0.43                   0.35\n",
      "4     5                  0.39                   0.29\n",
      "5     6                  0.29                   0.33\n",
      "6     7                  0.20                   0.13\n",
      "7     8                  0.08                   0.27\n",
      "8     9                  0.42                   0.65\n",
      "9    10                  3.72                   3.30\n",
      "10   11                  4.55                   6.94\n",
      "11   12                  0.47                   0.69\n",
      "12  All                100.00                 100.00\n"
     ]
    }
   ],
   "source": [
    "df_jwtr_stot = build_table_cat_stot(pumas_hh_merge,'JWTR','WGTP') "
   ]
  },
  {
   "cell_type": "code",
   "execution_count": 97,
   "metadata": {
    "collapsed": false
   },
   "outputs": [],
   "source": [
    "df_jwtr_stot.iloc[0] = ['Car, Truck, Van, or Motorcycle',df_jwtr_stot.iloc[0,1]+df_jwtr_stot.iloc[7,1],df_jwtr_stot.iloc[0,2]+df_jwtr_stot.iloc[7,2]]"
   ]
  },
  {
   "cell_type": "code",
   "execution_count": 98,
   "metadata": {
    "collapsed": true
   },
   "outputs": [],
   "source": [
    "df_jwtr_stot.iloc[1] = ['Bus, Trolley/Streetcar, Subway, or Ferry',df_jwtr_stot.iloc[1,1]+df_jwtr_stot.iloc[2,1]+df_jwtr_stot.iloc[3,1]+df_jwtr_stot.iloc[4,1]+df_jwtr_stot.iloc[5,1],df_jwtr_stot.iloc[1,2]+df_jwtr_stot.iloc[2,2]+df_jwtr_stot.iloc[3,2]+df_jwtr_stot.iloc[4,2]+df_jwtr_stot.iloc[5,2]]"
   ]
  },
  {
   "cell_type": "code",
   "execution_count": 99,
   "metadata": {
    "collapsed": true
   },
   "outputs": [],
   "source": [
    "df_jwtr_stot.iloc[6,0] = 'Taxicab'"
   ]
  },
  {
   "cell_type": "code",
   "execution_count": 100,
   "metadata": {
    "collapsed": true
   },
   "outputs": [],
   "source": [
    "df_jwtr_stot.iloc[8,0] = 'Bicycle'"
   ]
  },
  {
   "cell_type": "code",
   "execution_count": 101,
   "metadata": {
    "collapsed": true
   },
   "outputs": [],
   "source": [
    "df_jwtr_stot.iloc[9,0] = 'Walked'"
   ]
  },
  {
   "cell_type": "code",
   "execution_count": 102,
   "metadata": {
    "collapsed": true
   },
   "outputs": [],
   "source": [
    "df_jwtr_stot.iloc[10,0] = 'Worked at home'"
   ]
  },
  {
   "cell_type": "code",
   "execution_count": 103,
   "metadata": {
    "collapsed": true
   },
   "outputs": [],
   "source": [
    "df_jwtr_stot.iloc[11,0] = 'Other'"
   ]
  },
  {
   "cell_type": "code",
   "execution_count": 104,
   "metadata": {
    "collapsed": false
   },
   "outputs": [],
   "source": [
    "df_jwtr_stot = df_jwtr_stot.drop([2,3,4,5,7,12])"
   ]
  },
  {
   "cell_type": "code",
   "execution_count": 105,
   "metadata": {
    "collapsed": false
   },
   "outputs": [
    {
     "data": {
      "text/html": [
       "<div>\n",
       "<style>\n",
       "    .dataframe thead tr:only-child th {\n",
       "        text-align: right;\n",
       "    }\n",
       "\n",
       "    .dataframe thead th {\n",
       "        text-align: left;\n",
       "    }\n",
       "\n",
       "    .dataframe tbody tr th {\n",
       "        vertical-align: top;\n",
       "    }\n",
       "</style>\n",
       "<table border=\"1\" class=\"dataframe\">\n",
       "  <thead>\n",
       "    <tr style=\"text-align: right;\">\n",
       "      <th></th>\n",
       "      <th>JWTR</th>\n",
       "      <th>% of SNAP recipients</th>\n",
       "      <th>% of total population</th>\n",
       "    </tr>\n",
       "  </thead>\n",
       "  <tbody>\n",
       "    <tr>\n",
       "      <th>0</th>\n",
       "      <td>Car, Truck, Van, or Motorcycle</td>\n",
       "      <td>82.17</td>\n",
       "      <td>81.48</td>\n",
       "    </tr>\n",
       "    <tr>\n",
       "      <th>1</th>\n",
       "      <td>Bus, Trolley/Streetcar, Subway, or Ferry</td>\n",
       "      <td>8.49</td>\n",
       "      <td>6.81</td>\n",
       "    </tr>\n",
       "    <tr>\n",
       "      <th>6</th>\n",
       "      <td>Taxicab</td>\n",
       "      <td>0.20</td>\n",
       "      <td>0.13</td>\n",
       "    </tr>\n",
       "    <tr>\n",
       "      <th>8</th>\n",
       "      <td>Bicycle</td>\n",
       "      <td>0.42</td>\n",
       "      <td>0.65</td>\n",
       "    </tr>\n",
       "    <tr>\n",
       "      <th>9</th>\n",
       "      <td>Walked</td>\n",
       "      <td>3.72</td>\n",
       "      <td>3.30</td>\n",
       "    </tr>\n",
       "    <tr>\n",
       "      <th>10</th>\n",
       "      <td>Worked at home</td>\n",
       "      <td>4.55</td>\n",
       "      <td>6.94</td>\n",
       "    </tr>\n",
       "    <tr>\n",
       "      <th>11</th>\n",
       "      <td>Other</td>\n",
       "      <td>0.47</td>\n",
       "      <td>0.69</td>\n",
       "    </tr>\n",
       "  </tbody>\n",
       "</table>\n",
       "</div>"
      ],
      "text/plain": [
       "                                        JWTR  % of SNAP recipients  \\\n",
       "0             Car, Truck, Van, or Motorcycle                 82.17   \n",
       "1   Bus, Trolley/Streetcar, Subway, or Ferry                  8.49   \n",
       "6                                    Taxicab                  0.20   \n",
       "8                                    Bicycle                  0.42   \n",
       "9                                     Walked                  3.72   \n",
       "10                            Worked at home                  4.55   \n",
       "11                                     Other                  0.47   \n",
       "\n",
       "    % of total population  \n",
       "0                   81.48  \n",
       "1                    6.81  \n",
       "6                    0.13  \n",
       "8                    0.65  \n",
       "9                    3.30  \n",
       "10                   6.94  \n",
       "11                   0.69  "
      ]
     },
     "execution_count": 105,
     "metadata": {},
     "output_type": "execute_result"
    }
   ],
   "source": [
    "df_jwtr_stot"
   ]
  },
  {
   "cell_type": "markdown",
   "metadata": {},
   "source": [
    "### Household Language Detailed"
   ]
  },
  {
   "cell_type": "code",
   "execution_count": 106,
   "metadata": {
    "collapsed": false
   },
   "outputs": [
    {
     "name": "stdout",
     "output_type": "stream",
     "text": [
      "    HHLANP  % of SNAP recipients  % of total population\n",
      "0     1000                   NaN                   0.01\n",
      "1     1025                   NaN                   0.01\n",
      "2     1055                  0.02                   0.05\n",
      "3     1110                  0.30                   0.62\n",
      "4     1120                   NaN                   0.01\n",
      "5     1130                   NaN                   0.00\n",
      "6     1132                  0.09                   0.11\n",
      "7     1134                   NaN                   0.02\n",
      "8     1140                   NaN                   0.06\n",
      "9     1141                  0.02                   0.04\n",
      "10    1142                  0.04                   0.09\n",
      "11    1155                  0.04                   0.10\n",
      "12    1170                  0.53                   0.60\n",
      "13    1200                 13.22                   7.68\n",
      "14    1210                  0.15                   0.14\n",
      "15    1220                  0.07                   0.15\n",
      "16    1231                  0.09                   0.02\n",
      "17    1235                  0.11                   0.06\n",
      "18    1242                   NaN                   0.00\n",
      "19    1250                  1.66                   0.82\n",
      "20    1260                  0.53                   0.30\n",
      "21    1262                   NaN                   0.02\n",
      "22    1263                   NaN                   0.01\n",
      "23    1270                  0.02                   0.08\n",
      "24    1273                   NaN                   0.03\n",
      "25    1274                   NaN                   0.01\n",
      "26    1275                   NaN                   0.00\n",
      "27    1276                  0.06                   0.08\n",
      "28    1277                   NaN                   0.02\n",
      "29    1278                   NaN                   0.02\n",
      "..     ...                   ...                    ...\n",
      "81    3570                  0.03                   0.03\n",
      "82    3600                  0.07                   0.01\n",
      "83    4500                  0.39                   0.22\n",
      "84    4545                   NaN                   0.08\n",
      "85    4560                   NaN                   0.00\n",
      "86    4590                  0.43                   0.21\n",
      "87    4640                  0.18                   0.08\n",
      "88    4830                  0.17                   0.05\n",
      "89    4840                  0.85                   0.13\n",
      "90    4880                  0.09                   0.01\n",
      "91    4900                   NaN                   0.01\n",
      "92    5150                  0.11                   0.05\n",
      "93    5645                   NaN                   0.01\n",
      "94    5845                  0.14                   0.03\n",
      "95    5940                  0.02                   0.00\n",
      "96    5950                  0.02                   0.03\n",
      "97    6120                   NaN                   0.01\n",
      "98    6290                  0.06                   0.03\n",
      "99    6300                   NaN                   0.01\n",
      "100   6500                  0.03                   0.00\n",
      "101   6795                  0.02                   0.01\n",
      "102   6800                   NaN                   0.00\n",
      "103   6933                  0.05                   0.02\n",
      "104   7019                   NaN                   0.00\n",
      "105   7032                   NaN                   0.00\n",
      "106   7124                  0.05                   0.03\n",
      "107   7300                  0.17                   0.04\n",
      "108   9500                 73.16                  79.76\n",
      "109   9999                  0.03                   0.02\n",
      "110    All                100.00                 100.00\n",
      "\n",
      "[111 rows x 3 columns]\n"
     ]
    }
   ],
   "source": [
    "df_hhlanp_stot = build_table_cat_stot(pumas_hh_merge,'HHLANP','WGTP')"
   ]
  },
  {
   "cell_type": "code",
   "execution_count": 107,
   "metadata": {
    "collapsed": false
   },
   "outputs": [
    {
     "name": "stdout",
     "output_type": "stream",
     "text": [
      "    HHLANP  % of SNAP recipients  % of total population\n",
      "108   9500                 73.16                  79.76\n",
      "13    1200                 13.22                   7.68\n",
      "19    1250                  1.66                   0.82\n",
      "55    1960                  1.51                   0.85\n",
      "89    4840                  0.85                   0.13\n",
      "73    2920                  0.79                   0.83\n",
      "56    1970                  0.77                   1.09\n",
      "68    2575                  0.64                   0.76\n",
      "54    1900                  0.55                   0.24\n",
      "12    1170                  0.53                   0.60\n",
      "    HHLANP  % of SNAP recipients  % of total population\n",
      "108   9500                 73.16                  79.76\n",
      "13    1200                 13.22                   7.68\n",
      "56    1970                  0.77                   1.09\n",
      "55    1960                  1.51                   0.85\n",
      "73    2920                  0.79                   0.83\n",
      "19    1250                  1.66                   0.82\n",
      "68    2575                  0.64                   0.76\n",
      "3     1110                  0.30                   0.62\n",
      "12    1170                  0.53                   0.60\n",
      "36    1350                  0.23                   0.53\n"
     ]
    }
   ],
   "source": [
    "df_hhlanp_stot = df_hhlanp_stot[:-1]\n",
    "df_hhlanp_stot.sort_values(ascending=False,by='% of SNAP recipients',axis=0,inplace=True)\n",
    "print(df_hhlanp_stot.head(10))\n",
    "df_hhlanp_stot.sort_values(ascending=False,by='% of total population',axis=0,inplace=True)\n",
    "print(df_hhlanp_stot.head(10))"
   ]
  },
  {
   "cell_type": "markdown",
   "metadata": {},
   "source": [
    "SNAP recipients top 10 HHLANPs: \n",
    "1. 9500 = English-only household\n",
    "2. 1200 = Spanish\n",
    "3. 1250 = Russian\n",
    "4. 1960 = Vietnamese\n",
    "5. 4840 = Somali\n",
    "6. 2920 = Tagalog\n",
    "7. 1970 = Chinese\n",
    "8. 2575 = Korean\n",
    "9. 1900 = Khmer\n",
    "10. 1170 = French\n",
    "\n",
    "Total Population Top 10 HHLANPs: \n",
    "1. 9500 = English-only household\n",
    "2. 1200 = Spanish\n",
    "3. 1970 = Chinese\n",
    "4. 1960 = Vietnamese\n",
    "5. 2920 = Tagalog\n",
    "6. 1250 = Russian\n",
    "7. 2575 = Korean\n",
    "8. 1110 = German\n",
    "9. 1170 = French\n",
    "10. 1350 = Hindi"
   ]
  },
  {
   "cell_type": "markdown",
   "metadata": {},
   "source": [
    "### Household Head's Occupation"
   ]
  },
  {
   "cell_type": "code",
   "execution_count": 108,
   "metadata": {
    "collapsed": false
   },
   "outputs": [
    {
     "name": "stdout",
     "output_type": "stream",
     "text": [
      "     OCCP  % Receiving SNAP  % Not Receiving SNAP  Total Population\n",
      "0      10              1.94                 98.06             100.0\n",
      "1      20              2.00                 98.00             100.0\n",
      "2      40             11.38                 88.62             100.0\n",
      "3      50              4.28                 95.72             100.0\n",
      "4      60               NaN                100.00             100.0\n",
      "5     100              1.67                 98.33             100.0\n",
      "6     110              0.89                 99.11             100.0\n",
      "7     120              1.66                 98.34             100.0\n",
      "8     135               NaN                100.00             100.0\n",
      "9     136               NaN                100.00             100.0\n",
      "10    137               NaN                100.00             100.0\n",
      "11    140              1.79                 98.21             100.0\n",
      "12    150               NaN                100.00             100.0\n",
      "13    160              1.38                 98.62             100.0\n",
      "14    205              4.80                 95.20             100.0\n",
      "15    220              2.28                 97.72             100.0\n",
      "16    230              2.82                 97.18             100.0\n",
      "17    300               NaN                100.00             100.0\n",
      "18    310             12.96                 87.04             100.0\n",
      "19    330             66.09                 33.91             100.0\n",
      "20    340             18.93                 81.07             100.0\n",
      "21    350              3.26                 96.74             100.0\n",
      "22    360               NaN                100.00             100.0\n",
      "23    410             11.96                 88.04             100.0\n",
      "24    420              4.38                 95.62             100.0\n",
      "25    425               NaN                100.00             100.0\n",
      "26    430              4.73                 95.27             100.0\n",
      "27    500               NaN                100.00             100.0\n",
      "28    510               NaN                100.00             100.0\n",
      "29    520             11.41                 88.59             100.0\n",
      "..    ...               ...                   ...               ...\n",
      "437  9130             13.99                 86.01             100.0\n",
      "438  9140             27.90                 72.10             100.0\n",
      "439  9150             39.90                 60.10             100.0\n",
      "440  9200               NaN                100.00             100.0\n",
      "441  9240              8.99                 91.01             100.0\n",
      "442  9260             16.85                 83.15             100.0\n",
      "443  9300               NaN                100.00             100.0\n",
      "444  9310               NaN                100.00             100.0\n",
      "445  9350             56.09                 43.91             100.0\n",
      "446  9360              9.22                 90.78             100.0\n",
      "447  9410               NaN                100.00             100.0\n",
      "448  9415            100.00                   NaN             100.0\n",
      "449  9420              0.99                 99.01             100.0\n",
      "450  9510               NaN                100.00             100.0\n",
      "451  9520             37.10                 62.90             100.0\n",
      "452  9560               NaN                100.00             100.0\n",
      "453  9600             11.18                 88.82             100.0\n",
      "454  9610             14.25                 85.75             100.0\n",
      "455  9620             19.10                 80.90             100.0\n",
      "456  9630              2.68                 97.32             100.0\n",
      "457  9640             40.20                 59.80             100.0\n",
      "458  9650               NaN                100.00             100.0\n",
      "459  9720              3.64                 96.36             100.0\n",
      "460  9750               NaN                100.00             100.0\n",
      "461  9800               NaN                100.00             100.0\n",
      "462  9810              1.75                 98.25             100.0\n",
      "463  9820               NaN                100.00             100.0\n",
      "464  9830              5.96                 94.04             100.0\n",
      "465  9920             36.42                 63.58             100.0\n",
      "466   All             10.44                 89.56             100.0\n",
      "\n",
      "[467 rows x 4 columns]\n"
     ]
    }
   ],
   "source": [
    "df_occp_sns = build_table_cat_sns(pumas_hh_merge,'OCCP','WGTP')"
   ]
  },
  {
   "cell_type": "code",
   "execution_count": 109,
   "metadata": {
    "collapsed": false
   },
   "outputs": [
    {
     "name": "stdout",
     "output_type": "stream",
     "text": [
      "     OCCP  % of SNAP recipients  % of total population\n",
      "0      10                  0.16                   0.88\n",
      "1      20                  0.17                   0.88\n",
      "2      40                  0.05                   0.04\n",
      "3      50                  0.33                   0.80\n",
      "4      60                   NaN                   0.04\n",
      "5     100                  0.03                   0.18\n",
      "6     110                  0.05                   0.64\n",
      "7     120                  0.11                   0.72\n",
      "8     135                   NaN                   0.01\n",
      "9     136                   NaN                   0.34\n",
      "10    137                   NaN                   0.05\n",
      "11    140                  0.04                   0.24\n",
      "12    150                   NaN                   0.20\n",
      "13    160                  0.02                   0.18\n",
      "14    205                  0.17                   0.36\n",
      "15    220                  0.17                   0.79\n",
      "16    230                  0.15                   0.55\n",
      "17    300                   NaN                   0.22\n",
      "18    310                  0.57                   0.46\n",
      "19    330                  0.16                   0.03\n",
      "20    340                  0.13                   0.07\n",
      "21    350                  0.16                   0.51\n",
      "22    360                   NaN                   0.01\n",
      "23    410                  0.80                   0.70\n",
      "24    420                  0.16                   0.37\n",
      "25    425                   NaN                   0.02\n",
      "26    430                  1.85                   4.08\n",
      "27    500                   NaN                   0.01\n",
      "28    510                   NaN                   0.00\n",
      "29    520                  0.14                   0.13\n",
      "..    ...                   ...                    ...\n",
      "437  9130                  2.88                   2.15\n",
      "438  9140                  0.90                   0.34\n",
      "439  9150                  0.14                   0.04\n",
      "440  9200                   NaN                   0.03\n",
      "441  9240                  0.04                   0.05\n",
      "442  9260                  0.02                   0.01\n",
      "443  9300                   NaN                   0.03\n",
      "444  9310                   NaN                   0.05\n",
      "445  9350                  0.15                   0.03\n",
      "446  9360                  0.04                   0.05\n",
      "447  9410                   NaN                   0.02\n",
      "448  9415                  0.03                   0.00\n",
      "449  9420                  0.01                   0.08\n",
      "450  9510                   NaN                   0.03\n",
      "451  9520                  0.09                   0.03\n",
      "452  9560                   NaN                   0.01\n",
      "453  9600                  0.33                   0.31\n",
      "454  9610                  0.14                   0.10\n",
      "455  9620                  1.76                   0.96\n",
      "456  9630                  0.00                   0.02\n",
      "457  9640                  0.83                   0.21\n",
      "458  9650                   NaN                   0.00\n",
      "459  9720                  0.01                   0.02\n",
      "460  9750                   NaN                   0.02\n",
      "461  9800                   NaN                   0.07\n",
      "462  9810                  0.03                   0.20\n",
      "463  9820                   NaN                   0.11\n",
      "464  9830                  0.13                   0.22\n",
      "465  9920                  1.10                   0.32\n",
      "466   All                100.00                 100.00\n",
      "\n",
      "[467 rows x 3 columns]\n",
      "     OCCP  % of SNAP recipients  % of total population\n",
      "240  4720                  4.92                   1.28\n",
      "306  6050                  3.84                   1.18\n",
      "234  4610                  2.94                   1.08\n",
      "437  9130                  2.88                   2.15\n",
      "269  5240                  2.77                   1.54\n",
      "202  4020                  2.59                   0.91\n",
      "214  4220                  2.54                   1.48\n",
      "243  4760                  2.18                   1.44\n",
      "215  4230                  2.16                   0.75\n",
      "26    430                  1.85                   4.08\n",
      "     OCCP  % of SNAP recipients  % of total population\n",
      "26    430                  1.85                   4.08\n",
      "58   1020                  0.41                   2.90\n",
      "117  2310                  1.16                   2.19\n",
      "437  9130                  2.88                   2.15\n",
      "160  3255                  0.73                   1.92\n",
      "238  4700                  1.49                   1.80\n",
      "292  5700                  1.26                   1.75\n",
      "269  5240                  2.77                   1.54\n",
      "214  4220                  2.54                   1.48\n",
      "243  4760                  2.18                   1.44\n"
     ]
    }
   ],
   "source": [
    "df_occp_stot = build_table_cat_stot(pumas_hh_merge,'OCCP','WGTP')\n",
    "df_occp_stot = df_occp_stot[:-1]\n",
    "df_occp_stot.sort_values(ascending=False,by='% of SNAP recipients',axis=0,inplace=True)\n",
    "print(df_occp_stot.head(10))\n",
    "df_occp_stot.sort_values(ascending=False,by='% of total population',axis=0,inplace=True)\n",
    "print(df_occp_stot.head(10))"
   ]
  },
  {
   "cell_type": "markdown",
   "metadata": {},
   "source": [
    "SNAP recipients top 10 OCCPs: \n",
    "1. 4720 = Cashiers\n",
    "2. 6050 = Miscellaneous Agricultural Workers, Including Animal Breeders\n",
    "3. 4610 = Personal Care Aides\n",
    "4. 9130 = Driver/Sales Workers And Truck Drivers\n",
    "5. 5240 = Customer Service Representatives\n",
    "6. 4020 = Cooks\n",
    "7. 4220 = Janitors And Building Cleaners\n",
    "8. 4760 = Retail Salespersons\n",
    "9. 4230 = Maids And Housekeeping Cleaners\n",
    "10. 430 = Miscellaneous Managers, Including Funeral Service Managers And Postmasters And Mail Superintendents\n",
    "\n",
    "Total Population Top 10 OCCPs: \n",
    "1. 430 = Miscellaneous Managers, Including Funeral Service Managers And Postmasters And Mail Superintendents\n",
    "2. 1020 = Software Developers, Applications And Systems Software\n",
    "3. 2310 = Elementary And Middle School Teachers\n",
    "4. 9130 = Driver/Sales Workers And Truck Drivers\n",
    "5. 3255 = Registered Nurses\n",
    "6. 4700 = First-Line Supervisors Of Retail Sales Workers\n",
    "7. 5700 = Secretaries And Administrative Assistants\n",
    "8. 5240 = Customer Service Representatives\n",
    "9. 4220 = Janitors And Building Cleaners\n",
    "10. 4760 = Retail Salespersons"
   ]
  }
 ],
 "metadata": {
  "anaconda-cloud": {},
  "kernelspec": {
   "display_name": "Python [conda env:dev2]",
   "language": "python",
   "name": "conda-env-dev2-py"
  },
  "language_info": {
   "codemirror_mode": {
    "name": "ipython",
    "version": 2
   },
   "file_extension": ".py",
   "mimetype": "text/x-python",
   "name": "python",
   "nbconvert_exporter": "python",
   "pygments_lexer": "ipython2",
   "version": "2.7.12"
  }
 },
 "nbformat": 4,
 "nbformat_minor": 2
}
